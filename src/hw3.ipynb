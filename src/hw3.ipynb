{
 "cells": [
  {
   "cell_type": "markdown",
   "metadata": {},
   "source": [
    "## ECBM E6040 Homework 3 - Programming Problem"
   ]
  },
  {
   "cell_type": "code",
   "execution_count": 1,
   "metadata": {
    "collapsed": false
   },
   "outputs": [
    {
     "name": "stderr",
     "output_type": "stream",
     "text": [
      "Using gpu device 0: GRID K520\n"
     ]
    }
   ],
   "source": [
    "import matplotlib\n",
    "import pylab\n",
    "%matplotlib inline\n",
    "from hw3a import *\n",
    "from hw3b import *\n",
    "import matplotlib.pyplot as plt\n",
    "import matplotlib.cm as cm\n",
    "import glob\n",
    "from PIL import Image\n",
    "#from hw3a import test_mlp, test_noise_inject_at_input\n",
    "#from hw3a import test_noise_inject_at_weight"
   ]
  },
  {
   "cell_type": "code",
   "execution_count": 9,
   "metadata": {
    "collapsed": false
   },
   "outputs": [
    {
     "name": "stdout",
     "output_type": "stream",
     "text": [
      "... building the model\n",
      "... training\n",
      "Optimization complete.\n",
      "Best validation score of 26.917614 % obtained at iteration 9682, with test performance 71.047568 %\n"
     ]
    },
    {
     "name": "stderr",
     "output_type": "stream",
     "text": [
      "The training process for function test_mlp ran for 1.21m\n"
     ]
    }
   ],
   "source": [
    "# Problem a Smaller set\n",
    "test_mlp(learning_rate=0.1, L1_reg=0.00, L2_reg=0.0001, n_epochs=200,\n",
    "             batch_size=128, n_hidden=500, n_hiddenLayers=3,\n",
    "             verbose=False, smaller_set=True)"
   ]
  },
  {
   "cell_type": "code",
   "execution_count": 3,
   "metadata": {
    "collapsed": false
   },
   "outputs": [
    {
     "name": "stdout",
     "output_type": "stream",
     "text": [
      "... building the model\n",
      "... training\n",
      "Optimization complete.\n",
      "Best validation score of 26.136364 % obtained at iteration 9682, with test performance 71.228448 %\n"
     ]
    },
    {
     "name": "stderr",
     "output_type": "stream",
     "text": [
      "The training process for function test_mlp ran for 2.59m\n"
     ]
    }
   ],
   "source": [
    "# Problem a Smaller set\n",
    "test_mlp(learning_rate=0.05, L1_reg=0.00, L2_reg=0.0001, n_epochs=200,\n",
    "             batch_size=128, n_hidden=1000, n_hiddenLayers=3,\n",
    "             verbose=False, smaller_set=True)"
   ]
  },
  {
   "cell_type": "markdown",
   "metadata": {},
   "source": [
    "### Problem a: Regularization Methods for Neural Network\n",
    "#### Bullet 1: Implement a MLP"
   ]
  },
  {
   "cell_type": "code",
   "execution_count": 10,
   "metadata": {
    "collapsed": false
   },
   "outputs": [
    {
     "name": "stdout",
     "output_type": "stream",
     "text": [
      "... building the model\n",
      "... training\n",
      "Optimization complete.\n",
      "Best validation score of 25.644189 % obtained at iteration 7725, with test performance 73.860837 %\n"
     ]
    },
    {
     "name": "stderr",
     "output_type": "stream",
     "text": [
      "The training process for function test_mlp ran for 1.23m\n"
     ]
    }
   ],
   "source": [
    "test_mlp(learning_rate=0.1, L1_reg=0.00, L2_reg=0.0001, n_epochs=200,\n",
    "             batch_size=128, n_hidden=500, n_hiddenLayers=3,\n",
    "             verbose=False, smaller_set=False)"
   ]
  },
  {
   "cell_type": "code",
   "execution_count": 5,
   "metadata": {
    "collapsed": false
   },
   "outputs": [
    {
     "name": "stdout",
     "output_type": "stream",
     "text": [
      "... building the model\n",
      "... training\n",
      "Optimization complete.\n",
      "Best validation score of 21.436404 % obtained at iteration 9785, with test performance 77.378387 %\n"
     ]
    },
    {
     "name": "stderr",
     "output_type": "stream",
     "text": [
      "The training process for function test_mlp ran for 2.47m\n"
     ]
    }
   ],
   "source": [
    "# TODO bigger set\n",
    "test_mlp(learning_rate=0.05, L1_reg=0.00, L2_reg=0.0001, n_epochs=200,\n",
    "             batch_size=128, n_hidden=1000, n_hiddenLayers=3,\n",
    "             verbose=False, smaller_set=False)\n",
    "\n",
    "# With bigger set performance increases\n",
    "#Documented parameters for both are : \n",
    "#(learning_rate=0.05, L1_reg=0.00, L2_reg=0.0001, n_epochs=200,\n",
    "             #batch_size=128, n_hidden=1000, n_hiddenLayers=3)"
   ]
  },
  {
   "cell_type": "markdown",
   "metadata": {},
   "source": [
    "0#### Bullet 2: Experiment with noise injection at input"
   ]
  },
  {
   "cell_type": "code",
   "execution_count": 2,
   "metadata": {
    "collapsed": false
   },
   "outputs": [
    {
     "name": "stdout",
     "output_type": "stream",
     "text": [
      "for noise : \n",
      "0.1\n",
      "(65930, 3072)\n",
      "... building the model\n",
      "... training\n",
      "Optimization complete.\n",
      "Best validation score of 27.414773 % obtained at iteration 8755, with test performance 71.378541 %\n",
      "for noise : \n",
      "0.01\n",
      "(65930, 3072)\n",
      "... building the model\n",
      "... training\n",
      "Optimization complete."
     ]
    },
    {
     "name": "stderr",
     "output_type": "stream",
     "text": [
      "The training process for function test_noise_inject_at_input ran for 2.41m\n",
      "The training process for function test_noise_inject_at_input ran for 2.40m"
     ]
    },
    {
     "name": "stdout",
     "output_type": "stream",
     "text": [
      "\n",
      "Best validation score of 26.917614 % obtained at iteration 9785, with test performance 70.928264 %\n",
      "for noise : \n",
      "0.001\n",
      "(65930, 3072)\n",
      "... building the model\n",
      "... training\n",
      "Optimization complete."
     ]
    },
    {
     "name": "stderr",
     "output_type": "stream",
     "text": [
      "\n",
      "The training process for function test_noise_inject_at_input ran for 2.41m"
     ]
    },
    {
     "name": "stdout",
     "output_type": "stream",
     "text": [
      "\n",
      "Best validation score of 26.491477 % obtained at iteration 9785, with test performance 70.320197 %\n",
      "for noise : \n",
      "0.0001\n",
      "(65930, 3072)\n",
      "... building the model\n",
      "... training\n",
      "Optimization complete."
     ]
    },
    {
     "name": "stderr",
     "output_type": "stream",
     "text": [
      "\n",
      "The training process for function test_noise_inject_at_input ran for 2.39m"
     ]
    },
    {
     "name": "stdout",
     "output_type": "stream",
     "text": [
      "\n",
      "Best validation score of 27.698864 % obtained at iteration 9785, with test performance 69.943042 %\n",
      "for noise : \n",
      "1e-05\n",
      "(65930, 3072)\n",
      "... building the model\n",
      "... training\n",
      "Optimization complete."
     ]
    },
    {
     "name": "stderr",
     "output_type": "stream",
     "text": [
      "\n",
      "The training process for function test_noise_inject_at_input ran for 2.38m"
     ]
    },
    {
     "name": "stdout",
     "output_type": "stream",
     "text": [
      "\n",
      "Best validation score of 28.125000 % obtained at iteration 9785, with test performance 69.246459 %\n",
      "for noise : \n",
      "1e-06\n",
      "(65930, 3072)\n",
      "... building the model\n",
      "... training\n",
      "Optimization complete."
     ]
    },
    {
     "name": "stderr",
     "output_type": "stream",
     "text": [
      "\n",
      "The training process for function test_noise_inject_at_input ran for 2.39m"
     ]
    },
    {
     "name": "stdout",
     "output_type": "stream",
     "text": [
      "\n",
      "Best validation score of 29.474432 % obtained at iteration 8240, with test performance 69.023245 %\n",
      "for noise : \n",
      "1e-07\n",
      "(65930, 3072)\n",
      "... building the model\n",
      "... training\n",
      "Optimization complete."
     ]
    },
    {
     "name": "stderr",
     "output_type": "stream",
     "text": [
      "\n",
      "The training process for function test_noise_inject_at_input ran for 2.39m"
     ]
    },
    {
     "name": "stdout",
     "output_type": "stream",
     "text": [
      "\n",
      "Best validation score of 26.775568 % obtained at iteration 9785, with test performance 71.109144 %\n",
      "for noise : \n",
      "1e-08\n",
      "(65930, 3072)\n",
      "... building the model\n",
      "... training\n",
      "Optimization complete."
     ]
    },
    {
     "name": "stderr",
     "output_type": "stream",
     "text": [
      "\n",
      "The training process for function test_noise_inject_at_input ran for 2.39m"
     ]
    },
    {
     "name": "stdout",
     "output_type": "stream",
     "text": [
      "\n",
      "Best validation score of 27.911932 % obtained at iteration 9270, with test performance 70.347137 %\n",
      "for noise : \n",
      "1e-09\n",
      "(65930, 3072)\n",
      "... building the model\n",
      "... training\n",
      "Optimization complete."
     ]
    },
    {
     "name": "stderr",
     "output_type": "stream",
     "text": [
      "\n",
      "The training process for function test_noise_inject_at_input ran for 2.40m"
     ]
    },
    {
     "name": "stdout",
     "output_type": "stream",
     "text": [
      "\n",
      "Best validation score of 27.130682 % obtained at iteration 9270, with test performance 69.777555 %\n",
      "for noise : \n",
      "1e-10\n",
      "(65930, 3072)\n",
      "... building the model\n",
      "... training\n",
      "Optimization complete."
     ]
    },
    {
     "name": "stderr",
     "output_type": "stream",
     "text": [
      "\n",
      "The training process for function test_noise_inject_at_input ran for 2.40m"
     ]
    },
    {
     "name": "stdout",
     "output_type": "stream",
     "text": [
      "\n",
      "Best validation score of 26.349432 % obtained at iteration 9785, with test performance 70.131619 %\n"
     ]
    },
    {
     "name": "stderr",
     "output_type": "stream",
     "text": [
      "\n"
     ]
    }
   ],
   "source": [
    "noise = [1e-1,1e-2,1e-3,1e-4,1e-5,1e-6,1e-7,1e-8,1e-9,1e-10]\n",
    "for noi in noise:\n",
    "    print(\"for noise : \")\n",
    "    print noi\n",
    "    test_noise_inject_at_input(noi,learning_rate=0.05, L1_reg=0.00,\n",
    "             L2_reg=0.0001, n_epochs=200,\n",
    "             batch_size=128, n_hidden=1000, n_hiddenLayers=3,\n",
    "             verbose=False)\n",
    "\"\"\"\n",
    "Noise : 1e-1 Test accuracy: 71.378541\n",
    "Noise : 1e-2 Test accuracy: 70.928264\n",
    "Noise : 1e-3 Test accuracy: 70.320197\n",
    "Noise : 1e-4 Test accuracy: 69.943042\n",
    "Noise : 1e-5 Test accuracy: 69.246459 \n",
    "Noise : 1e-6 Test accuracy: 69.023245\n",
    "Noise : 1e-7 Test accuracy: 71.109144\n",
    "Noise : 1e-8 Test accuracy: 70.347137\n",
    "Noise : 1e-9 Test accuracy: 70.131619\n",
    "Noise : 1e-10 Test accuracy: 70.131619 \n",
    "\n",
    "Initially when the noise decreases accuracy also decreases, however at 1e-7 accuracy is greatest and it continuosly decreases as \n",
    "noise decreases\n",
    "\n",
    "Noise is the standard deviation in the gaussian method called by the function. The accuracy decreases as noise decreases till 1e-7 and then increases \n",
    "again.\n",
    "This occurs because firstly noises are greater and the model is underfit while with less noise levels\n",
    "the model overfits the training data. It is seen that 1e-7 is an ideal noise level.\n",
    "\"\"\""
   ]
  },
  {
   "cell_type": "code",
   "execution_count": 3,
   "metadata": {
    "collapsed": false
   },
   "outputs": [
    {
     "name": "stdout",
     "output_type": "stream",
     "text": [
      "(65930, 3072)\n",
      "(65930, 3072)\n",
      "... building the model\n",
      "... training\n",
      "Optimization complete.\n",
      "Best validation score of 29.403409 % obtained at iteration 9785, with test performance 67.968750 %\n"
     ]
    },
    {
     "name": "stderr",
     "output_type": "stream",
     "text": [
      "The training process for function test_noise_inject_at_input ran for 1.17m\n"
     ]
    }
   ],
   "source": [
    "# TODO\n",
    "noise = [1e-1,1e-2,1e-3,1e-4,1e-5,1e-6,1e-7,1e-8,1e-9,1e-10]\n",
    "\n",
    "test_noise_inject_at_input(learning_rate=0.1, L1_reg=0.00,\n",
    "             L2_reg=0.0001, n_epochs=100,\n",
    "             batch_size=128, n_hidden=500, n_hiddenLayers=3,\n",
    "             verbose=False)"
   ]
  },
  {
   "cell_type": "markdown",
   "metadata": {},
   "source": [
    "#### Bullet 3: Experiment with noise injection at weights"
   ]
  },
  {
   "cell_type": "code",
   "execution_count": 2,
   "metadata": {
    "collapsed": false
   },
   "outputs": [
    {
     "name": "stdout",
     "output_type": "stream",
     "text": [
      "... building the model\n",
      "shape of classifier params is : \n",
      "[W, b, W, b, W, b, W, b]\n",
      "[Elemwise{add,no_inplace}.0, GpuFromHost.0, Elemwise{add,no_inplace}.0, GpuFromHost.0, Elemwise{add,no_inplace}.0, GpuFromHost.0, Elemwise{add,no_inplace}.0, GpuFromHost.0]\n",
      "... training\n",
      "training @ iter =  0\n",
      "training @ iter =  100\n",
      "epoch 1, minibatch 103/103, validation error 81.392045 %\n",
      "     epoch 1, minibatch 103/103, test error of best model 80.326355 %\n",
      "training @ iter =  200\n",
      "epoch 2, minibatch 103/103, validation error 80.681818 %\n",
      "     epoch 2, minibatch 103/103, test error of best model 79.756773 %\n",
      "training @ iter =  300\n",
      "epoch 3, minibatch 103/103, validation error 80.042614 %\n",
      "     epoch 3, minibatch 103/103, test error of best model 78.948584 %\n",
      "training @ iter =  400\n",
      "epoch 4, minibatch 103/103, validation error 78.693182 %\n",
      "     epoch 4, minibatch 103/103, test error of best model 78.182728 %\n",
      "training @ iter =  500\n",
      "epoch 5, minibatch 103/103, validation error 77.485795 %\n",
      "     epoch 5, minibatch 103/103, test error of best model 78.132697 %\n",
      "training @ iter =  600\n",
      "epoch 6, minibatch 103/103, validation error 78.906250 %\n",
      "training @ iter =  700\n",
      "epoch 7, minibatch 103/103, validation error 68.039773 %\n",
      "     epoch 7, minibatch 103/103, test error of best model 68.449815 %\n",
      "training @ iter =  800\n",
      "epoch 8, minibatch 103/103, validation error 60.653409 %\n",
      "     epoch 8, minibatch 103/103, test error of best model 62.873307 %\n",
      "training @ iter =  900\n",
      "epoch 9, minibatch 103/103, validation error 67.045455 %\n",
      "training @ iter =  1000\n",
      "epoch 10, minibatch 103/103, validation error 57.883523 %\n",
      "     epoch 10, minibatch 103/103, test error of best model 60.048491 %\n",
      "training @ iter =  1100\n",
      "epoch 11, minibatch 103/103, validation error 51.775568 %\n",
      "     epoch 11, minibatch 103/103, test error of best model 52.801724 %\n",
      "training @ iter =  1200\n",
      "epoch 12, minibatch 103/103, validation error 56.178977 %\n",
      "training @ iter =  1300\n",
      "epoch 13, minibatch 103/103, validation error 56.178977 %\n",
      "training @ iter =  1400\n",
      "epoch 14, minibatch 103/103, validation error 50.852273 %\n",
      "     epoch 14, minibatch 103/103, test error of best model 51.704895 %\n",
      "training @ iter =  1500\n",
      "epoch 15, minibatch 103/103, validation error 51.207386 %\n",
      "training @ iter =  1600\n",
      "epoch 16, minibatch 103/103, validation error 50.142045 %\n",
      "     epoch 16, minibatch 103/103, test error of best model 52.155172 %\n",
      "training @ iter =  1700\n",
      "epoch 17, minibatch 103/103, validation error 44.105114 %\n",
      "     epoch 17, minibatch 103/103, test error of best model 46.001385 %\n",
      "training @ iter =  1800\n",
      "epoch 18, minibatch 103/103, validation error 41.051136 %\n",
      "     epoch 18, minibatch 103/103, test error of best model 42.083590 %\n",
      "training @ iter =  1900\n",
      "epoch 19, minibatch 103/103, validation error 42.897727 %\n",
      "training @ iter =  2000\n",
      "epoch 20, minibatch 103/103, validation error 41.264205 %\n",
      "training @ iter =  2100\n",
      "epoch 21, minibatch 103/103, validation error 43.039773 %\n",
      "training @ iter =  2200\n",
      "epoch 22, minibatch 103/103, validation error 38.423295 %\n",
      "     epoch 22, minibatch 103/103, test error of best model 39.608990 %\n",
      "training @ iter =  2300\n",
      "epoch 23, minibatch 103/103, validation error 37.642045 %\n",
      "     epoch 23, minibatch 103/103, test error of best model 39.166410 %\n",
      "training @ iter =  2400\n",
      "epoch 24, minibatch 103/103, validation error 36.505682 %\n",
      "     epoch 24, minibatch 103/103, test error of best model 37.500000 %\n",
      "training @ iter =  2500\n",
      "epoch 25, minibatch 103/103, validation error 37.144886 %\n",
      "training @ iter =  2600\n",
      "epoch 26, minibatch 103/103, validation error 35.014205 %\n",
      "     epoch 26, minibatch 103/103, test error of best model 35.695043 %\n",
      "training @ iter =  2700\n",
      "epoch 27, minibatch 103/103, validation error 37.286932 %\n",
      "training @ iter =  2800\n",
      "epoch 28, minibatch 103/103, validation error 35.014205 %\n",
      "training @ iter =  2900\n",
      "epoch 29, minibatch 103/103, validation error 36.647727 %\n",
      "training @ iter =  3000\n",
      "epoch 30, minibatch 103/103, validation error 34.375000 %\n",
      "     epoch 30, minibatch 103/103, test error of best model 35.671952 %\n",
      "training @ iter =  3100\n",
      "epoch 31, minibatch 103/103, validation error 36.363636 %\n",
      "training @ iter =  3200\n",
      "epoch 32, minibatch 103/103, validation error 34.375000 %\n",
      "training @ iter =  3300\n",
      "epoch 33, minibatch 103/103, validation error 33.451705 %\n",
      "     epoch 33, minibatch 103/103, test error of best model 35.140856 %\n",
      "training @ iter =  3400\n",
      "training @ iter =  3500\n",
      "epoch 34, minibatch 103/103, validation error 32.244318 %\n",
      "     epoch 34, minibatch 103/103, test error of best model 33.870844 %\n",
      "training @ iter =  3600\n",
      "epoch 35, minibatch 103/103, validation error 34.303977 %\n",
      "training @ iter =  3700\n",
      "epoch 36, minibatch 103/103, validation error 34.232955 %\n",
      "training @ iter =  3800\n",
      "epoch 37, minibatch 103/103, validation error 38.565341 %\n",
      "training @ iter =  3900\n",
      "epoch 38, minibatch 103/103, validation error 36.576705 %\n",
      "training @ iter =  4000\n",
      "epoch 39, minibatch 103/103, validation error 31.676136 %\n",
      "     epoch 39, minibatch 103/103, test error of best model 33.035714 %\n",
      "training @ iter =  4100\n",
      "epoch 40, minibatch 103/103, validation error 36.079545 %\n",
      "training @ iter =  4200\n",
      "epoch 41, minibatch 103/103, validation error 37.357955 %\n",
      "training @ iter =  4300\n",
      "epoch 42, minibatch 103/103, validation error 38.565341 %\n",
      "training @ iter =  4400\n",
      "epoch 43, minibatch 103/103, validation error 32.599432 %\n",
      "training @ iter =  4500\n",
      "epoch 44, minibatch 103/103, validation error 35.795455 %\n",
      "training @ iter =  4600\n",
      "epoch 45, minibatch 103/103, validation error 32.954545 %\n",
      "training @ iter =  4700\n",
      "epoch 46, minibatch 103/103, validation error 31.747159 %\n",
      "training @ iter =  4800\n",
      "epoch 47, minibatch 103/103, validation error 38.281250 %\n",
      "training @ iter =  4900\n",
      "epoch 48, minibatch 103/103, validation error 34.801136 %\n",
      "training @ iter =  5000\n",
      "epoch 49, minibatch 103/103, validation error 30.397727 %\n",
      "     epoch 49, minibatch 103/103, test error of best model 34.205665 %\n",
      "training @ iter =  5100\n",
      "epoch 50, minibatch 103/103, validation error 29.474432 %\n",
      "     epoch 50, minibatch 103/103, test error of best model 31.061422 %\n",
      "training @ iter =  5200\n",
      "epoch 51, minibatch 103/103, validation error 33.025568 %\n",
      "training @ iter =  5300\n",
      "epoch 52, minibatch 103/103, validation error 31.747159 %\n",
      "training @ iter =  5400\n",
      "epoch 53, minibatch 103/103, validation error 31.605114 %\n",
      "training @ iter =  5500\n",
      "epoch 54, minibatch 103/103, validation error 30.539773 %\n",
      "training @ iter =  5600\n",
      "epoch 55, minibatch 103/103, validation error 31.392045 %\n",
      "training @ iter =  5700\n",
      "epoch 56, minibatch 103/103, validation error 30.042614 %\n",
      "training @ iter =  5800\n",
      "epoch 57, minibatch 103/103, validation error 34.730114 %\n",
      "training @ iter =  5900\n",
      "epoch 58, minibatch 103/103, validation error 31.889205 %\n",
      "training @ iter =  6000\n",
      "epoch 59, minibatch 103/103, validation error 34.161932 %\n",
      "training @ iter =  6100\n",
      "epoch 60, minibatch 103/103, validation error 30.823864 %\n",
      "training @ iter =  6200\n",
      "epoch 61, minibatch 103/103, validation error 30.255682 %\n",
      "training @ iter =  6300\n",
      "epoch 62, minibatch 103/103, validation error 33.309659 %\n",
      "training @ iter =  6400\n",
      "epoch 63, minibatch 103/103, validation error 28.977273 %\n",
      "     epoch 63, minibatch 103/103, test error of best model 32.573892 %\n",
      "training @ iter =  6500\n",
      "epoch 64, minibatch 103/103, validation error 32.031250 %\n",
      "training @ iter =  6600\n",
      "epoch 65, minibatch 103/103, validation error 32.386364 %\n",
      "training @ iter =  6700\n",
      "epoch 66, minibatch 103/103, validation error 32.315341 %\n",
      "training @ iter =  6800\n",
      "training @ iter =  6900\n",
      "epoch 67, minibatch 103/103, validation error 29.971591 %\n",
      "training @ iter =  7000\n",
      "epoch 68, minibatch 103/103, validation error 32.954545 %\n",
      "training @ iter =  7100\n",
      "epoch 69, minibatch 103/103, validation error 28.977273 %\n",
      "training @ iter =  7200\n",
      "epoch 70, minibatch 103/103, validation error 29.971591 %\n",
      "training @ iter =  7300\n",
      "epoch 71, minibatch 103/103, validation error 27.059659 %\n",
      "     epoch 71, minibatch 103/103, test error of best model 30.245536 %\n",
      "training @ iter =  7400\n",
      "epoch 72, minibatch 103/103, validation error 27.343750 %\n",
      "training @ iter =  7500\n",
      "epoch 73, minibatch 103/103, validation error 34.375000 %\n",
      "training @ iter =  7600\n",
      "epoch 74, minibatch 103/103, validation error 27.698864 %\n",
      "training @ iter =  7700\n",
      "epoch 75, minibatch 103/103, validation error 29.190341 %\n",
      "training @ iter =  7800\n",
      "epoch 76, minibatch 103/103, validation error 32.599432 %\n",
      "training @ iter =  7900\n",
      "epoch 77, minibatch 103/103, validation error 28.053977 %\n",
      "training @ iter =  8000\n",
      "epoch 78, minibatch 103/103, validation error 27.414773 %\n",
      "training @ iter =  8100\n",
      "epoch 79, minibatch 103/103, validation error 26.562500 %\n",
      "     epoch 79, minibatch 103/103, test error of best model 29.956897 %\n",
      "training @ iter =  8200\n",
      "epoch 80, minibatch 103/103, validation error 31.605114 %\n",
      "training @ iter =  8300\n",
      "epoch 81, minibatch 103/103, validation error 33.167614 %\n",
      "training @ iter =  8400\n",
      "epoch 82, minibatch 103/103, validation error 27.272727 %\n",
      "training @ iter =  8500\n",
      "epoch 83, minibatch 103/103, validation error 26.420455 %\n",
      "     epoch 83, minibatch 103/103, test error of best model 29.133313 %\n",
      "training @ iter =  8600\n",
      "epoch 84, minibatch 103/103, validation error 36.647727 %\n",
      "training @ iter =  8700\n",
      "epoch 85, minibatch 103/103, validation error 25.426136 %\n",
      "     epoch 85, minibatch 103/103, test error of best model 28.817734 %\n",
      "training @ iter =  8800\n",
      "epoch 86, minibatch 103/103, validation error 25.284091 %\n",
      "     epoch 86, minibatch 103/103, test error of best model 28.036484 %\n",
      "training @ iter =  8900\n",
      "epoch 87, minibatch 103/103, validation error 25.355114 %\n",
      "training @ iter =  9000\n",
      "epoch 88, minibatch 103/103, validation error 25.355114 %\n",
      "training @ iter =  9100\n",
      "epoch 89, minibatch 103/103, validation error 27.130682 %\n",
      "training @ iter =  9200\n",
      "epoch 90, minibatch 103/103, validation error 26.704545 %\n",
      "training @ iter =  9300\n",
      "epoch 91, minibatch 103/103, validation error 25.497159 %\n",
      "training @ iter =  9400\n",
      "epoch 92, minibatch 103/103, validation error 24.147727 %\n",
      "     epoch 92, minibatch 103/103, test error of best model 27.782482 %\n",
      "training @ iter =  9500\n",
      "epoch 93, minibatch 103/103, validation error 23.863636 %\n",
      "     epoch 93, minibatch 103/103, test error of best model 27.817118 %\n",
      "training @ iter =  9600\n",
      "epoch 94, minibatch 103/103, validation error 24.928977 %\n",
      "training @ iter =  9700\n",
      "epoch 95, minibatch 103/103, validation error 25.000000 %\n",
      "training @ iter =  9800\n",
      "epoch 96, minibatch 103/103, validation error 24.289773 %\n",
      "training @ iter =  9900\n",
      "epoch 97, minibatch 103/103, validation error 23.579545 %\n",
      "     epoch 97, minibatch 103/103, test error of best model 27.770936 %\n",
      "training @ iter =  10000\n",
      "Optimization complete.\n",
      "Best validation score of 23.579545 % obtained at iteration 9991, with test performance 72.229064 %\n"
     ]
    },
    {
     "name": "stderr",
     "output_type": "stream",
     "text": [
      "The training process for function test_noise_injection_at_weight ran for 30.06m\n"
     ]
    }
   ],
   "source": [
    "# TODO\n",
    "\"\"\"\n",
    "As is the case in noise injection at input, I see that performance accuracy for noise first decrease then reached peak, then \n",
    "decreased again.Best performance is for noise 1e-6. When noise is  added to the weights \n",
    "the results are slightly  better than case (i)\n",
    "\"\"\"\n",
    "test_noise_injection_at_weight(learning_rate=0.1,\n",
    "             L1_reg=0.00, L2_reg=0.0001, n_epochs=200,\n",
    "             batch_size=128, n_hidden=500, n_hiddenLayers=3,\n",
    "             verbose=True)"
   ]
  },
  {
   "cell_type": "code",
   "execution_count": 2,
   "metadata": {
    "collapsed": false
   },
   "outputs": [
    {
     "name": "stdout",
     "output_type": "stream",
     "text": [
      "... building the model\n",
      "shape of classifier params is : \n",
      "[W, b, W, b, W, b, W, b]\n",
      "[Elemwise{add,no_inplace}.0, GpuFromHost.0, Elemwise{add,no_inplace}.0, GpuFromHost.0, Elemwise{add,no_inplace}.0, GpuFromHost.0, Elemwise{add,no_inplace}.0, GpuFromHost.0]\n",
      "... training\n",
      "training @ iter =  0\n",
      "training @ iter =  100\n",
      "epoch 1, minibatch 103/103, validation error 81.392045 %\n",
      "     epoch 1, minibatch 103/103, test error of best model 80.326355 %\n",
      "training @ iter =  200\n",
      "epoch 2, minibatch 103/103, validation error 80.681818 %\n",
      "     epoch 2, minibatch 103/103, test error of best model 79.752925 %\n",
      "training @ iter =  300\n",
      "epoch 3, minibatch 103/103, validation error 80.042614 %\n",
      "     epoch 3, minibatch 103/103, test error of best model 78.910099 %\n",
      "training @ iter =  400\n",
      "epoch 4, minibatch 103/103, validation error 78.267045 %\n",
      "     epoch 4, minibatch 103/103, test error of best model 77.974908 %\n",
      "training @ iter =  500\n",
      "epoch 5, minibatch 103/103, validation error 77.414773 %\n",
      "     epoch 5, minibatch 103/103, test error of best model 77.828664 %\n",
      "training @ iter =  600\n",
      "epoch 6, minibatch 103/103, validation error 72.514205 %\n",
      "     epoch 6, minibatch 103/103, test error of best model 76.016010 %\n",
      "training @ iter =  700\n",
      "epoch 7, minibatch 103/103, validation error 73.011364 %\n",
      "training @ iter =  800\n",
      "epoch 8, minibatch 103/103, validation error 73.863636 %\n",
      "training @ iter =  900\n",
      "epoch 9, minibatch 103/103, validation error 64.843750 %\n",
      "     epoch 9, minibatch 103/103, test error of best model 66.406250 %\n",
      "training @ iter =  1000\n",
      "epoch 10, minibatch 103/103, validation error 61.505682 %\n",
      "     epoch 10, minibatch 103/103, test error of best model 64.212592 %\n",
      "training @ iter =  1100\n",
      "epoch 11, minibatch 103/103, validation error 58.593750 %\n",
      "     epoch 11, minibatch 103/103, test error of best model 59.390394 %\n",
      "training @ iter =  1200\n",
      "epoch 12, minibatch 103/103, validation error 54.971591 %\n",
      "     epoch 12, minibatch 103/103, test error of best model 55.522629 %\n",
      "training @ iter =  1300\n",
      "epoch 13, minibatch 103/103, validation error 51.420455 %\n",
      "     epoch 13, minibatch 103/103, test error of best model 54.587438 %\n",
      "training @ iter =  1400\n",
      "epoch 14, minibatch 103/103, validation error 53.622159 %\n",
      "training @ iter =  1500\n",
      "epoch 15, minibatch 103/103, validation error 46.377841 %\n",
      "     epoch 15, minibatch 103/103, test error of best model 48.633775 %\n",
      "training @ iter =  1600\n",
      "epoch 16, minibatch 103/103, validation error 47.301136 %\n",
      "training @ iter =  1700\n",
      "epoch 17, minibatch 103/103, validation error 45.951705 %\n",
      "     epoch 17, minibatch 103/103, test error of best model 47.294489 %\n",
      "training @ iter =  1800\n",
      "epoch 18, minibatch 103/103, validation error 42.968750 %\n",
      "     epoch 18, minibatch 103/103, test error of best model 44.877617 %\n",
      "training @ iter =  1900\n",
      "epoch 19, minibatch 103/103, validation error 45.667614 %\n",
      "training @ iter =  2000\n",
      "epoch 20, minibatch 103/103, validation error 40.198864 %\n",
      "     epoch 20, minibatch 103/103, test error of best model 41.202278 %\n",
      "training @ iter =  2100\n",
      "epoch 21, minibatch 103/103, validation error 37.286932 %\n",
      "     epoch 21, minibatch 103/103, test error of best model 38.750770 %\n",
      "training @ iter =  2200\n",
      "epoch 22, minibatch 103/103, validation error 40.127841 %\n",
      "training @ iter =  2300\n",
      "epoch 23, minibatch 103/103, validation error 37.215909 %\n",
      "     epoch 23, minibatch 103/103, test error of best model 39.177956 %\n",
      "training @ iter =  2400\n",
      "epoch 24, minibatch 103/103, validation error 36.008523 %\n",
      "     epoch 24, minibatch 103/103, test error of best model 37.715517 %\n",
      "training @ iter =  2500\n",
      "epoch 25, minibatch 103/103, validation error 39.417614 %\n",
      "training @ iter =  2600\n",
      "epoch 26, minibatch 103/103, validation error 37.997159 %\n",
      "training @ iter =  2700\n",
      "epoch 27, minibatch 103/103, validation error 35.369318 %\n",
      "     epoch 27, minibatch 103/103, test error of best model 36.965055 %\n",
      "training @ iter =  2800\n",
      "epoch 28, minibatch 103/103, validation error 34.588068 %\n",
      "     epoch 28, minibatch 103/103, test error of best model 36.499384 %\n",
      "training @ iter =  2900\n",
      "epoch 29, minibatch 103/103, validation error 36.292614 %\n",
      "training @ iter =  3000\n",
      "epoch 30, minibatch 103/103, validation error 36.718750 %\n",
      "training @ iter =  3100\n",
      "epoch 31, minibatch 103/103, validation error 35.014205 %\n",
      "training @ iter =  3200\n",
      "epoch 32, minibatch 103/103, validation error 34.943182 %\n",
      "training @ iter =  3300\n",
      "epoch 33, minibatch 103/103, validation error 37.215909 %\n",
      "training @ iter =  3400\n",
      "training @ iter =  3500\n",
      "epoch 34, minibatch 103/103, validation error 37.073864 %\n",
      "training @ iter =  3600\n",
      "epoch 35, minibatch 103/103, validation error 34.019886 %\n",
      "     epoch 35, minibatch 103/103, test error of best model 36.010622 %\n",
      "training @ iter =  3700\n",
      "epoch 36, minibatch 103/103, validation error 37.144886 %\n",
      "training @ iter =  3800\n",
      "epoch 37, minibatch 103/103, validation error 34.801136 %\n",
      "training @ iter =  3900\n",
      "epoch 38, minibatch 103/103, validation error 36.292614 %\n",
      "training @ iter =  4000\n",
      "epoch 39, minibatch 103/103, validation error 38.707386 %\n",
      "training @ iter =  4100\n",
      "epoch 40, minibatch 103/103, validation error 33.309659 %\n",
      "     epoch 40, minibatch 103/103, test error of best model 34.809883 %\n",
      "training @ iter =  4200\n",
      "epoch 41, minibatch 103/103, validation error 32.031250 %\n",
      "     epoch 41, minibatch 103/103, test error of best model 34.163331 %\n",
      "training @ iter =  4300\n",
      "epoch 42, minibatch 103/103, validation error 33.380682 %\n",
      "training @ iter =  4400\n",
      "epoch 43, minibatch 103/103, validation error 32.102273 %\n",
      "training @ iter =  4500\n",
      "epoch 44, minibatch 103/103, validation error 33.309659 %\n",
      "training @ iter =  4600\n",
      "epoch 45, minibatch 103/103, validation error 32.741477 %\n",
      "training @ iter =  4700\n",
      "epoch 46, minibatch 103/103, validation error 32.883523 %\n",
      "training @ iter =  4800\n",
      "epoch 47, minibatch 103/103, validation error 34.375000 %\n",
      "training @ iter =  4900\n",
      "epoch 48, minibatch 103/103, validation error 32.883523 %\n",
      "training @ iter =  5000\n",
      "epoch 49, minibatch 103/103, validation error 32.954545 %\n",
      "training @ iter =  5100\n",
      "epoch 50, minibatch 103/103, validation error 36.789773 %\n",
      "training @ iter =  5200\n",
      "epoch 51, minibatch 103/103, validation error 32.599432 %\n",
      "training @ iter =  5300\n",
      "epoch 52, minibatch 103/103, validation error 32.315341 %\n",
      "training @ iter =  5400\n",
      "epoch 53, minibatch 103/103, validation error 32.741477 %\n",
      "training @ iter =  5500\n",
      "epoch 54, minibatch 103/103, validation error 35.724432 %\n",
      "training @ iter =  5600\n",
      "epoch 55, minibatch 103/103, validation error 30.894886 %\n",
      "     epoch 55, minibatch 103/103, test error of best model 33.062654 %\n",
      "training @ iter =  5700\n",
      "epoch 56, minibatch 103/103, validation error 31.463068 %\n",
      "training @ iter =  5800\n",
      "epoch 57, minibatch 103/103, validation error 30.042614 %\n",
      "     epoch 57, minibatch 103/103, test error of best model 32.373768 %\n",
      "training @ iter =  5900\n",
      "epoch 58, minibatch 103/103, validation error 31.178977 %\n",
      "training @ iter =  6000\n",
      "epoch 59, minibatch 103/103, validation error 29.971591 %\n",
      "     epoch 59, minibatch 103/103, test error of best model 32.570043 %\n",
      "training @ iter =  6100\n",
      "epoch 60, minibatch 103/103, validation error 30.752841 %\n",
      "training @ iter =  6200\n",
      "epoch 61, minibatch 103/103, validation error 31.250000 %\n",
      "training @ iter =  6300\n",
      "epoch 62, minibatch 103/103, validation error 30.468750 %\n",
      "training @ iter =  6400\n",
      "epoch 63, minibatch 103/103, validation error 35.369318 %\n",
      "training @ iter =  6500\n",
      "epoch 64, minibatch 103/103, validation error 30.397727 %\n",
      "training @ iter =  6600\n",
      "epoch 65, minibatch 103/103, validation error 30.468750 %\n",
      "training @ iter =  6700\n",
      "epoch 66, minibatch 103/103, validation error 29.545455 %\n",
      "     epoch 66, minibatch 103/103, test error of best model 32.439193 %\n",
      "training @ iter =  6800\n",
      "training @ iter =  6900\n",
      "epoch 67, minibatch 103/103, validation error 31.747159 %\n",
      "training @ iter =  7000\n",
      "epoch 68, minibatch 103/103, validation error 29.900568 %\n",
      "training @ iter =  7100\n",
      "epoch 69, minibatch 103/103, validation error 30.681818 %\n",
      "training @ iter =  7200\n",
      "epoch 70, minibatch 103/103, validation error 29.190341 %\n",
      "     epoch 70, minibatch 103/103, test error of best model 31.353910 %\n",
      "training @ iter =  7300\n",
      "epoch 71, minibatch 103/103, validation error 29.758523 %\n",
      "training @ iter =  7400\n",
      "epoch 72, minibatch 103/103, validation error 28.977273 %\n",
      "     epoch 72, minibatch 103/103, test error of best model 32.273707 %\n",
      "training @ iter =  7500\n",
      "epoch 73, minibatch 103/103, validation error 29.687500 %\n",
      "training @ iter =  7600\n",
      "epoch 74, minibatch 103/103, validation error 28.480114 %\n",
      "     epoch 74, minibatch 103/103, test error of best model 31.892703 %\n",
      "training @ iter =  7700\n",
      "epoch 75, minibatch 103/103, validation error 28.906250 %\n",
      "training @ iter =  7800\n",
      "epoch 76, minibatch 103/103, validation error 27.059659 %\n",
      "     epoch 76, minibatch 103/103, test error of best model 30.268627 %\n",
      "training @ iter =  7900\n",
      "epoch 77, minibatch 103/103, validation error 27.556818 %\n",
      "training @ iter =  8000\n",
      "epoch 78, minibatch 103/103, validation error 28.196023 %\n",
      "training @ iter =  8100\n",
      "epoch 79, minibatch 103/103, validation error 30.468750 %\n",
      "training @ iter =  8200\n",
      "epoch 80, minibatch 103/103, validation error 27.059659 %\n",
      "training @ iter =  8300\n",
      "epoch 81, minibatch 103/103, validation error 26.562500 %\n",
      "     epoch 81, minibatch 103/103, test error of best model 29.071736 %\n",
      "training @ iter =  8400\n",
      "epoch 82, minibatch 103/103, validation error 27.769886 %\n",
      "training @ iter =  8500\n",
      "epoch 83, minibatch 103/103, validation error 26.278409 %\n",
      "     epoch 83, minibatch 103/103, test error of best model 30.226293 %\n",
      "training @ iter =  8600\n",
      "epoch 84, minibatch 103/103, validation error 26.562500 %\n",
      "training @ iter =  8700\n",
      "epoch 85, minibatch 103/103, validation error 26.917614 %\n",
      "training @ iter =  8800\n",
      "epoch 86, minibatch 103/103, validation error 26.136364 %\n",
      "     epoch 86, minibatch 103/103, test error of best model 29.799107 %\n",
      "training @ iter =  8900\n",
      "epoch 87, minibatch 103/103, validation error 26.917614 %\n",
      "training @ iter =  9000\n",
      "epoch 88, minibatch 103/103, validation error 27.130682 %\n",
      "training @ iter =  9100\n",
      "epoch 89, minibatch 103/103, validation error 28.906250 %\n",
      "training @ iter =  9200\n",
      "epoch 90, minibatch 103/103, validation error 25.923295 %\n",
      "     epoch 90, minibatch 103/103, test error of best model 29.683651 %\n",
      "training @ iter =  9300\n",
      "epoch 91, minibatch 103/103, validation error 25.497159 %\n",
      "     epoch 91, minibatch 103/103, test error of best model 28.902401 %\n",
      "training @ iter =  9400\n",
      "epoch 92, minibatch 103/103, validation error 32.244318 %\n",
      "training @ iter =  9500\n",
      "epoch 93, minibatch 103/103, validation error 25.994318 %\n",
      "training @ iter =  9600\n",
      "epoch 94, minibatch 103/103, validation error 26.420455 %\n",
      "training @ iter =  9700\n",
      "epoch 95, minibatch 103/103, validation error 28.977273 %\n",
      "training @ iter =  9800\n",
      "epoch 96, minibatch 103/103, validation error 25.781250 %\n",
      "training @ iter =  9900\n",
      "epoch 97, minibatch 103/103, validation error 24.573864 %\n",
      "     epoch 97, minibatch 103/103, test error of best model 28.733067 %\n",
      "training @ iter =  10000\n",
      "Optimization complete.\n",
      "Best validation score of 24.573864 % obtained at iteration 9991, with test performance 71.266933 %\n"
     ]
    },
    {
     "name": "stderr",
     "output_type": "stream",
     "text": [
      "The training process for function test_noise_injection_at_weight ran for 22.04m\n"
     ]
    }
   ],
   "source": [
    "test_noise_injection_at_weight(learning_rate=0.1,\n",
    "             L1_reg=0.00, L2_reg=0.0001, n_epochs=200,\n",
    "             batch_size=128, n_hidden=500, n_hiddenLayers=3,\n",
    "             verbose=True)"
   ]
  },
  {
   "cell_type": "markdown",
   "metadata": {},
   "source": [
    "#### Bullet 4: Experiment with data augmentation"
   ]
  },
  {
   "cell_type": "code",
   "execution_count": 2,
   "metadata": {
    "collapsed": false,
    "scrolled": true
   },
   "outputs": [
    {
     "name": "stdout",
     "output_type": "stream",
     "text": [
      "13186\n",
      "3072\n",
      "13186\n",
      "up\n",
      "13186\n",
      "below\n",
      "13186\n",
      "right\n",
      "13186\n",
      "left\n",
      "... building the model\n",
      "... training\n",
      "Optimization complete.\n",
      "Best validation score of 29.545455 % obtained at iteration 9785, with test performance 67.884083 %\n"
     ]
    },
    {
     "name": "stderr",
     "output_type": "stream",
     "text": [
      "The training process for function test_data_augmentation ran for 2.46m\n"
     ]
    }
   ],
   "source": [
    "# TODO\n",
    "\"\"\"\n",
    "After augmenting data with up, down,left,right performance acuracy becomes worse. This is due to augmenting 4 datasets with noise\n",
    "injected in up,down,left,right\n",
    "\"\"\"\n",
    "test_data_augmentation(learning_rate=0.05,\n",
    "             L1_reg=0.00, L2_reg=0.0001, n_epochs=200,\n",
    "             batch_size=128, n_hidden=1000, n_hiddenLayers=3,\n",
    "             verbose=False)"
   ]
  },
  {
   "cell_type": "markdown",
   "metadata": {},
   "source": [
    "#### Bullet 5: Experiment with adversarial examples"
   ]
  },
  {
   "cell_type": "code",
   "execution_count": 2,
   "metadata": {
    "collapsed": false
   },
   "outputs": [
    {
     "name": "stdout",
     "output_type": "stream",
     "text": [
      "... building the model\n",
      "... training\n",
      "Optimization complete.\n",
      "Best validation score of 81.569966 % obtained at iteration 10000, with test performance 0.000000 %\n",
      "Second time training for\n",
      "1\n",
      "Optimization complete."
     ]
    },
    {
     "name": "stderr",
     "output_type": "stream",
     "text": [
      "The training process for function test_adversarial_example ran for 0.93m\n",
      "The training process for function test_adversarial_example ran for 0.93m"
     ]
    },
    {
     "name": "stdout",
     "output_type": "stream",
     "text": [
      "\n",
      "Best validation score of 77.679181 % obtained at iteration 10000, with test performance 100.000000 %\n",
      "... building the model\n",
      "... training\n",
      "Optimization complete."
     ]
    },
    {
     "name": "stderr",
     "output_type": "stream",
     "text": [
      "\n",
      "The training process for function test_adversarial_example ran for 0.93m"
     ]
    },
    {
     "name": "stdout",
     "output_type": "stream",
     "text": [
      "\n",
      "Best validation score of 81.569966 % obtained at iteration 10000, with test performance 100.000000 %\n",
      "Second time training for\n",
      "2\n",
      "Optimization complete."
     ]
    },
    {
     "name": "stderr",
     "output_type": "stream",
     "text": [
      "\n",
      "The training process for function test_adversarial_example ran for 0.93m"
     ]
    },
    {
     "name": "stdout",
     "output_type": "stream",
     "text": [
      "\n",
      "Best validation score of 77.679181 % obtained at iteration 10000, with test performance 0.000000 %\n",
      "... building the model\n",
      "... training\n",
      "Optimization complete."
     ]
    },
    {
     "name": "stderr",
     "output_type": "stream",
     "text": [
      "\n",
      "The training process for function test_adversarial_example ran for 0.93m"
     ]
    },
    {
     "name": "stdout",
     "output_type": "stream",
     "text": [
      "\n",
      "Best validation score of 81.569966 % obtained at iteration 10000, with test performance 0.000000 %\n",
      "Second time training for\n",
      "3\n",
      "Optimization complete."
     ]
    },
    {
     "name": "stderr",
     "output_type": "stream",
     "text": [
      "\n",
      "The training process for function test_adversarial_example ran for 0.93m"
     ]
    },
    {
     "name": "stdout",
     "output_type": "stream",
     "text": [
      "\n",
      "Best validation score of 77.679181 % obtained at iteration 10000, with test performance 0.000000 %\n",
      "... building the model\n",
      "... training\n",
      "Optimization complete."
     ]
    },
    {
     "name": "stderr",
     "output_type": "stream",
     "text": [
      "\n",
      "The training process for function test_adversarial_example ran for 0.93m"
     ]
    },
    {
     "name": "stdout",
     "output_type": "stream",
     "text": [
      "\n",
      "Best validation score of 81.569966 % obtained at iteration 10000, with test performance 0.000000 %\n",
      "Second time training for\n",
      "4\n",
      "Optimization complete."
     ]
    },
    {
     "name": "stderr",
     "output_type": "stream",
     "text": [
      "\n",
      "The training process for function test_adversarial_example ran for 0.93m"
     ]
    },
    {
     "name": "stdout",
     "output_type": "stream",
     "text": [
      "\n",
      "Best validation score of 77.679181 % obtained at iteration 10000, with test performance 0.000000 %\n"
     ]
    },
    {
     "name": "stderr",
     "output_type": "stream",
     "text": [
      "\n"
     ]
    }
   ],
   "source": [
    "# TODO\n",
    "\"\"\"\n",
    "I found an adversial example. Then I classified it again after injecting noise. I was able to fool the model.\n",
    "\"\"\"\n",
    "a = []\n",
    "b= []\n",
    "c= []\n",
    "for index in range(1,5):\n",
    "    a,b,c = test_adversarial_example(index,learning_rate=0.01, L1_reg=0.00, L2_reg=0.0001, n_epochs=100,\n",
    "             batch_size=1, n_hidden=500, n_hiddenLayers=3,\n",
    "             verbose=False, smaller_set=True)"
   ]
  },
  {
   "cell_type": "markdown",
   "metadata": {},
   "source": [
    "### Problem b: Convolutional Neural Network\n",
    "#### Bullet 1: Implement an CNN"
   ]
  },
  {
   "cell_type": "code",
   "execution_count": 2,
   "metadata": {
    "collapsed": false
   },
   "outputs": [
    {
     "name": "stdout",
     "output_type": "stream",
     "text": [
      "... building the model\n",
      "... training\n",
      "Optimization complete.\n",
      "Best validation score of 19.569444 % obtained at iteration 9870, with test performance 77.596154 %\n"
     ]
    },
    {
     "name": "stderr",
     "output_type": "stream",
     "text": [
      "The training process for function test_lenet ran for 10.05m\n"
     ]
    }
   ],
   "source": [
    "# TODO\n",
    "\"\"\"\n",
    "When my filter was [2,2] and pool_size = [2,2] my performance was 77.59%.\n",
    "When my filter was [3,3] and pool_size = [2,2] my performance was 64.8%. I only increased the filter shape and performance\n",
    "decreased\n",
    "However when I decreased my learning rate and Increased my filter size to 5, the performance was slightly lower than case 1.\n",
    "\n",
    "\"\"\"\n",
    "test_lenet(learning_rate=0.1, n_epochs=1000, nkerns=[16, 512],\n",
    "        batch_size=200,filtershape = 2,pool_size = 2,imageshape = 32,verbose=False)"
   ]
  },
  {
   "cell_type": "code",
   "execution_count": 3,
   "metadata": {
    "collapsed": false
   },
   "outputs": [
    {
     "name": "stdout",
     "output_type": "stream",
     "text": [
      "... building the model\n",
      "... training\n",
      "Optimization complete.\n",
      "Best validation score of 33.819444 % obtained at iteration 1974, with test performance 64.803846 %\n"
     ]
    },
    {
     "name": "stderr",
     "output_type": "stream",
     "text": [
      "The training process for function test_lenet ran for 13.77m\n"
     ]
    }
   ],
   "source": [
    "test_lenet(learning_rate=0.1, n_epochs=1000, nkerns=[32, 512],\n",
    "        batch_size=200,filtershape = 3,pool_size = 2,imageshape = 32,verbose=False)"
   ]
  },
  {
   "cell_type": "code",
   "execution_count": 5,
   "metadata": {
    "collapsed": false
   },
   "outputs": [
    {
     "name": "stdout",
     "output_type": "stream",
     "text": [
      "... building the model\n",
      "... training\n",
      "training @ iter =  0\n",
      "training @ iter =  100\n",
      "training @ iter =  200\n",
      "training @ iter =  300\n",
      "epoch 1, minibatch 329/329, validation error 81.000000 %\n",
      "     epoch 1, minibatch 329/329, test error of best model 80.319231 %\n",
      "training @ iter =  400\n",
      "training @ iter =  500\n",
      "training @ iter =  600\n",
      "epoch 2, minibatch 329/329, validation error 76.458333 %\n",
      "     epoch 2, minibatch 329/329, test error of best model 76.569231 %\n",
      "training @ iter =  700\n",
      "training @ iter =  800\n",
      "training @ iter =  900\n",
      "epoch 3, minibatch 329/329, validation error 64.277778 %\n",
      "     epoch 3, minibatch 329/329, test error of best model 62.350000 %\n",
      "training @ iter =  1000\n",
      "training @ iter =  1100\n",
      "training @ iter =  1200\n",
      "training @ iter =  1300\n",
      "epoch 4, minibatch 329/329, validation error 52.833333 %\n",
      "     epoch 4, minibatch 329/329, test error of best model 51.950000 %\n",
      "training @ iter =  1400\n",
      "training @ iter =  1500\n",
      "training @ iter =  1600\n",
      "epoch 5, minibatch 329/329, validation error 44.430556 %\n",
      "     epoch 5, minibatch 329/329, test error of best model 43.526923 %\n",
      "training @ iter =  1700\n",
      "training @ iter =  1800\n",
      "training @ iter =  1900\n",
      "epoch 6, minibatch 329/329, validation error 38.805556 %\n",
      "     epoch 6, minibatch 329/329, test error of best model 38.523077 %\n",
      "training @ iter =  2000\n",
      "training @ iter =  2100\n",
      "training @ iter =  2200\n",
      "training @ iter =  2300\n",
      "epoch 7, minibatch 329/329, validation error 35.541667 %\n",
      "     epoch 7, minibatch 329/329, test error of best model 35.284615 %\n",
      "training @ iter =  2400\n",
      "training @ iter =  2500\n",
      "training @ iter =  2600\n",
      "epoch 8, minibatch 329/329, validation error 31.736111 %\n",
      "     epoch 8, minibatch 329/329, test error of best model 32.096154 %\n",
      "training @ iter =  2700\n",
      "training @ iter =  2800\n",
      "training @ iter =  2900\n",
      "epoch 9, minibatch 329/329, validation error 29.555556 %\n",
      "     epoch 9, minibatch 329/329, test error of best model 29.834615 %\n",
      "training @ iter =  3000\n",
      "training @ iter =  3100\n",
      "training @ iter =  3200\n",
      "epoch 10, minibatch 329/329, validation error 28.097222 %\n",
      "     epoch 10, minibatch 329/329, test error of best model 28.653846 %\n",
      "training @ iter =  3300\n",
      "training @ iter =  3400\n",
      "training @ iter =  3500\n",
      "training @ iter =  3600\n",
      "epoch 11, minibatch 329/329, validation error 26.986111 %\n",
      "     epoch 11, minibatch 329/329, test error of best model 27.519231 %\n",
      "training @ iter =  3700\n",
      "training @ iter =  3800\n",
      "training @ iter =  3900\n",
      "epoch 12, minibatch 329/329, validation error 26.152778 %\n",
      "     epoch 12, minibatch 329/329, test error of best model 26.757692 %\n",
      "training @ iter =  4000\n",
      "training @ iter =  4100\n",
      "training @ iter =  4200\n",
      "epoch 13, minibatch 329/329, validation error 25.458333 %\n",
      "     epoch 13, minibatch 329/329, test error of best model 26.184615 %\n",
      "training @ iter =  4300\n",
      "training @ iter =  4400\n",
      "training @ iter =  4500\n",
      "training @ iter =  4600\n",
      "epoch 14, minibatch 329/329, validation error 24.541667 %\n",
      "     epoch 14, minibatch 329/329, test error of best model 25.488462 %\n",
      "training @ iter =  4700\n",
      "training @ iter =  4800\n",
      "training @ iter =  4900\n",
      "epoch 15, minibatch 329/329, validation error 23.944444 %\n",
      "     epoch 15, minibatch 329/329, test error of best model 24.961538 %\n",
      "training @ iter =  5000\n",
      "training @ iter =  5100\n",
      "training @ iter =  5200\n",
      "epoch 16, minibatch 329/329, validation error 23.208333 %\n",
      "     epoch 16, minibatch 329/329, test error of best model 24.580769 %\n",
      "training @ iter =  5300\n",
      "training @ iter =  5400\n",
      "training @ iter =  5500\n",
      "epoch 17, minibatch 329/329, validation error 22.625000 %\n",
      "     epoch 17, minibatch 329/329, test error of best model 24.115385 %\n",
      "training @ iter =  5600\n",
      "training @ iter =  5700\n",
      "training @ iter =  5800\n",
      "training @ iter =  5900\n",
      "epoch 18, minibatch 329/329, validation error 22.083333 %\n",
      "     epoch 18, minibatch 329/329, test error of best model 23.934615 %\n",
      "training @ iter =  6000\n",
      "training @ iter =  6100\n",
      "training @ iter =  6200\n",
      "epoch 19, minibatch 329/329, validation error 21.722222 %\n",
      "     epoch 19, minibatch 329/329, test error of best model 23.673077 %\n",
      "training @ iter =  6300\n",
      "training @ iter =  6400\n",
      "training @ iter =  6500\n",
      "epoch 20, minibatch 329/329, validation error 21.555556 %\n",
      "     epoch 20, minibatch 329/329, test error of best model 23.530769 %\n",
      "training @ iter =  6600\n",
      "training @ iter =  6700\n",
      "training @ iter =  6800\n",
      "training @ iter =  6900\n",
      "epoch 21, minibatch 329/329, validation error 21.458333 %\n",
      "     epoch 21, minibatch 329/329, test error of best model 23.292308 %\n",
      "training @ iter =  7000\n",
      "training @ iter =  7100\n",
      "training @ iter =  7200\n",
      "epoch 22, minibatch 329/329, validation error 21.250000 %\n",
      "     epoch 22, minibatch 329/329, test error of best model 23.253846 %\n",
      "training @ iter =  7300\n",
      "training @ iter =  7400\n",
      "training @ iter =  7500\n",
      "epoch 23, minibatch 329/329, validation error 21.180556 %\n",
      "     epoch 23, minibatch 329/329, test error of best model 23.253846 %\n",
      "training @ iter =  7600\n",
      "training @ iter =  7700\n",
      "training @ iter =  7800\n",
      "epoch 24, minibatch 329/329, validation error 21.222222 %\n",
      "training @ iter =  7900\n",
      "training @ iter =  8000\n",
      "training @ iter =  8100\n",
      "training @ iter =  8200\n",
      "epoch 25, minibatch 329/329, validation error 20.972222 %\n",
      "     epoch 25, minibatch 329/329, test error of best model 23.234615 %\n",
      "training @ iter =  8300\n",
      "training @ iter =  8400\n",
      "training @ iter =  8500\n",
      "epoch 26, minibatch 329/329, validation error 20.986111 %\n",
      "training @ iter =  8600\n",
      "training @ iter =  8700\n",
      "training @ iter =  8800\n",
      "epoch 27, minibatch 329/329, validation error 21.097222 %\n",
      "training @ iter =  8900\n",
      "training @ iter =  9000\n",
      "training @ iter =  9100\n",
      "training @ iter =  9200\n",
      "epoch 28, minibatch 329/329, validation error 21.194444 %\n",
      "training @ iter =  9300\n",
      "training @ iter =  9400\n",
      "training @ iter =  9500\n",
      "epoch 29, minibatch 329/329, validation error 21.250000 %\n",
      "training @ iter =  9600\n",
      "training @ iter =  9700\n",
      "training @ iter =  9800\n",
      "epoch 30, minibatch 329/329, validation error 21.333333 %\n",
      "training @ iter =  9900\n",
      "training @ iter =  10000\n",
      "Optimization complete.\n",
      "Best validation score of 20.972222 % obtained at iteration 8225, with test performance 76.765385 %\n"
     ]
    },
    {
     "name": "stderr",
     "output_type": "stream",
     "text": [
      "The training process for function test_lenet ran for 11.51m\n"
     ]
    }
   ],
   "source": [
    "test_lenet(learning_rate=0.05, n_epochs=1000, nkerns=[16, 512],\n",
    "        batch_size=200,filtershape = 5,pool_size = 2,imageshape = 32,verbose=True)"
   ]
  },
  {
   "cell_type": "markdown",
   "metadata": {},
   "source": [
    "#### Bullet 2: Implement a multi-stage CNN"
   ]
  },
  {
   "cell_type": "code",
   "execution_count": 6,
   "metadata": {
    "collapsed": false
   },
   "outputs": [
    {
     "name": "stdout",
     "output_type": "stream",
     "text": [
      "... building the model\n",
      "... training\n",
      "Optimization complete.\n",
      "Best validation score of 27.694444 % obtained at iteration 9870, with test performance 70.353846 %\n"
     ]
    },
    {
     "name": "stderr",
     "output_type": "stream",
     "text": [
      "The training process for function test_convnet ran for 9.31m\n"
     ]
    }
   ],
   "source": [
    "# TODO\n",
    "\"\"\"\n",
    "Case 1 : filtershape = [2,2],pool_size = [2,2],imageshape = [32,32],downsizing = [2,2]\n",
    "My performance was 70.3%\n",
    "Case 2 : filtershape = [2,2],pool_size = [3,3],imageshape = [32,32],downsizing = [3,3]\n",
    "My performance was 63%. It reduced by decreasing pool size which should be the case as we pool from larger set\n",
    "Case 3 : filtershape = [3,3],pool_size = [3,3],imageshape = [32,32],downsizing = [4,4]\n",
    "My performance was 58%. Incrementing filter and downsize reduced performance from Case 2\n",
    "\n",
    "\n",
    "\"\"\"\n",
    "test_convnet(learning_rate=0.1, n_epochs=1000, nkerns=[16, 512, 20],\n",
    "        batch_size=200, verbose=False,filtershape = [2,2],pool_size = [2,2],imageshape = [32,32],downsizing = [2,2])"
   ]
  },
  {
   "cell_type": "code",
   "execution_count": 2,
   "metadata": {
    "collapsed": false
   },
   "outputs": [
    {
     "name": "stdout",
     "output_type": "stream",
     "text": [
      "... building the model\n",
      "... training\n",
      "training @ iter =  0\n",
      "training @ iter =  100\n",
      "training @ iter =  200\n",
      "training @ iter =  300\n",
      "epoch 1, minibatch 329/329, validation error 81.152778 %\n",
      "     epoch 1, minibatch 329/329, test error of best model 80.415385 %\n",
      "training @ iter =  400\n",
      "training @ iter =  500\n",
      "training @ iter =  600\n",
      "epoch 2, minibatch 329/329, validation error 79.041667 %\n",
      "     epoch 2, minibatch 329/329, test error of best model 78.453846 %\n",
      "training @ iter =  700\n",
      "training @ iter =  800\n",
      "training @ iter =  900\n",
      "epoch 3, minibatch 329/329, validation error 73.375000 %\n",
      "     epoch 3, minibatch 329/329, test error of best model 72.511538 %\n",
      "training @ iter =  1000\n",
      "training @ iter =  1100\n",
      "training @ iter =  1200\n",
      "training @ iter =  1300\n",
      "epoch 4, minibatch 329/329, validation error 63.013889 %\n",
      "     epoch 4, minibatch 329/329, test error of best model 62.596154 %\n",
      "training @ iter =  1400\n",
      "training @ iter =  1500\n",
      "training @ iter =  1600\n",
      "epoch 5, minibatch 329/329, validation error 54.791667 %\n",
      "     epoch 5, minibatch 329/329, test error of best model 55.830769 %\n",
      "training @ iter =  1700\n",
      "training @ iter =  1800\n",
      "training @ iter =  1900\n",
      "epoch 6, minibatch 329/329, validation error 50.694444 %\n",
      "     epoch 6, minibatch 329/329, test error of best model 51.815385 %\n",
      "training @ iter =  2000\n",
      "training @ iter =  2100\n",
      "training @ iter =  2200\n",
      "training @ iter =  2300\n",
      "epoch 7, minibatch 329/329, validation error 47.777778 %\n",
      "     epoch 7, minibatch 329/329, test error of best model 48.715385 %\n",
      "training @ iter =  2400\n",
      "training @ iter =  2500\n",
      "training @ iter =  2600\n",
      "epoch 8, minibatch 329/329, validation error 45.402778 %\n",
      "     epoch 8, minibatch 329/329, test error of best model 46.861538 %\n",
      "training @ iter =  2700\n",
      "training @ iter =  2800\n",
      "training @ iter =  2900\n",
      "epoch 9, minibatch 329/329, validation error 43.666667 %\n",
      "     epoch 9, minibatch 329/329, test error of best model 45.019231 %\n",
      "training @ iter =  3000\n",
      "training @ iter =  3100\n",
      "training @ iter =  3200\n",
      "epoch 10, minibatch 329/329, validation error 43.013889 %\n",
      "     epoch 10, minibatch 329/329, test error of best model 44.026923 %\n",
      "training @ iter =  3300\n",
      "training @ iter =  3400\n",
      "training @ iter =  3500\n",
      "training @ iter =  3600\n",
      "epoch 11, minibatch 329/329, validation error 41.833333 %\n",
      "     epoch 11, minibatch 329/329, test error of best model 42.711538 %\n",
      "training @ iter =  3700\n",
      "training @ iter =  3800\n",
      "training @ iter =  3900\n",
      "epoch 12, minibatch 329/329, validation error 40.250000 %\n",
      "     epoch 12, minibatch 329/329, test error of best model 41.750000 %\n",
      "training @ iter =  4000\n",
      "training @ iter =  4100\n",
      "training @ iter =  4200\n",
      "epoch 13, minibatch 329/329, validation error 39.666667 %\n",
      "     epoch 13, minibatch 329/329, test error of best model 40.938462 %\n",
      "training @ iter =  4300\n",
      "training @ iter =  4400\n",
      "training @ iter =  4500\n",
      "training @ iter =  4600\n",
      "epoch 14, minibatch 329/329, validation error 39.000000 %\n",
      "     epoch 14, minibatch 329/329, test error of best model 40.392308 %\n",
      "training @ iter =  4700\n",
      "training @ iter =  4800\n",
      "training @ iter =  4900\n",
      "epoch 15, minibatch 329/329, validation error 38.277778 %\n",
      "     epoch 15, minibatch 329/329, test error of best model 39.892308 %\n",
      "training @ iter =  5000\n",
      "training @ iter =  5100\n",
      "training @ iter =  5200\n",
      "epoch 16, minibatch 329/329, validation error 37.625000 %\n",
      "     epoch 16, minibatch 329/329, test error of best model 39.342308 %\n",
      "training @ iter =  5300\n",
      "training @ iter =  5400\n",
      "training @ iter =  5500\n",
      "epoch 17, minibatch 329/329, validation error 37.041667 %\n",
      "     epoch 17, minibatch 329/329, test error of best model 38.992308 %\n",
      "training @ iter =  5600\n",
      "training @ iter =  5700\n",
      "training @ iter =  5800\n",
      "training @ iter =  5900\n",
      "epoch 18, minibatch 329/329, validation error 36.625000 %\n",
      "     epoch 18, minibatch 329/329, test error of best model 38.742308 %\n",
      "training @ iter =  6000\n",
      "training @ iter =  6100\n",
      "training @ iter =  6200\n",
      "epoch 19, minibatch 329/329, validation error 36.333333 %\n",
      "     epoch 19, minibatch 329/329, test error of best model 38.246154 %\n",
      "training @ iter =  6300\n",
      "training @ iter =  6400\n",
      "training @ iter =  6500\n",
      "epoch 20, minibatch 329/329, validation error 35.888889 %\n",
      "     epoch 20, minibatch 329/329, test error of best model 37.961538 %\n",
      "training @ iter =  6600\n",
      "training @ iter =  6700\n",
      "training @ iter =  6800\n",
      "training @ iter =  6900\n",
      "epoch 21, minibatch 329/329, validation error 35.805556 %\n",
      "     epoch 21, minibatch 329/329, test error of best model 37.557692 %\n",
      "training @ iter =  7000\n",
      "training @ iter =  7100\n",
      "training @ iter =  7200\n",
      "epoch 22, minibatch 329/329, validation error 35.694444 %\n",
      "     epoch 22, minibatch 329/329, test error of best model 37.392308 %\n",
      "training @ iter =  7300\n",
      "training @ iter =  7400\n",
      "training @ iter =  7500\n",
      "epoch 23, minibatch 329/329, validation error 35.500000 %\n",
      "     epoch 23, minibatch 329/329, test error of best model 37.134615 %\n",
      "training @ iter =  7600\n",
      "training @ iter =  7700\n",
      "training @ iter =  7800\n",
      "epoch 24, minibatch 329/329, validation error 35.250000 %\n",
      "     epoch 24, minibatch 329/329, test error of best model 37.092308 %\n",
      "training @ iter =  7900\n",
      "training @ iter =  8000\n",
      "training @ iter =  8100\n",
      "training @ iter =  8200\n",
      "epoch 25, minibatch 329/329, validation error 35.152778 %\n",
      "     epoch 25, minibatch 329/329, test error of best model 36.861538 %\n",
      "training @ iter =  8300\n",
      "training @ iter =  8400\n",
      "training @ iter =  8500\n",
      "epoch 26, minibatch 329/329, validation error 35.250000 %\n",
      "training @ iter =  8600\n",
      "training @ iter =  8700\n",
      "training @ iter =  8800\n",
      "epoch 27, minibatch 329/329, validation error 35.236111 %\n",
      "training @ iter =  8900\n",
      "training @ iter =  9000\n",
      "training @ iter =  9100\n",
      "training @ iter =  9200\n",
      "epoch 28, minibatch 329/329, validation error 35.236111 %\n",
      "training @ iter =  9300\n",
      "training @ iter =  9400\n",
      "training @ iter =  9500\n",
      "epoch 29, minibatch 329/329, validation error 35.291667 %\n",
      "training @ iter =  9600\n",
      "training @ iter =  9700\n",
      "training @ iter =  9800\n",
      "epoch 30, minibatch 329/329, validation error 35.166667 %\n",
      "training @ iter =  9900\n",
      "training @ iter =  10000\n",
      "Optimization complete.\n",
      "Best validation score of 35.152778 % obtained at iteration 8225, with test performance 63.138462 %\n"
     ]
    },
    {
     "name": "stderr",
     "output_type": "stream",
     "text": [
      "The training process for function test_convnet ran for 9.68m\n"
     ]
    }
   ],
   "source": [
    "test_convnet(learning_rate=0.1, n_epochs=1000, nkerns=[16, 512, 20],\n",
    "        batch_size=200, verbose=True,filtershape = [2,2],pool_size = [3,3],imageshape = [32,32],downsizing = [3,3],ignore=False)"
   ]
  },
  {
   "cell_type": "code",
   "execution_count": 2,
   "metadata": {
    "collapsed": false
   },
   "outputs": [
    {
     "name": "stdout",
     "output_type": "stream",
     "text": [
      "... building the model\n",
      "... training\n",
      "training @ iter =  0\n",
      "training @ iter =  100\n",
      "training @ iter =  200\n",
      "training @ iter =  300\n",
      "epoch 1, minibatch 329/329, validation error 81.152778 %\n",
      "     epoch 1, minibatch 329/329, test error of best model 80.415385 %\n",
      "training @ iter =  400\n",
      "training @ iter =  500\n",
      "training @ iter =  600\n",
      "epoch 2, minibatch 329/329, validation error 78.708333 %\n",
      "     epoch 2, minibatch 329/329, test error of best model 78.269231 %\n",
      "training @ iter =  700\n",
      "training @ iter =  800\n",
      "training @ iter =  900\n",
      "epoch 3, minibatch 329/329, validation error 68.041667 %\n",
      "     epoch 3, minibatch 329/329, test error of best model 68.738462 %\n",
      "training @ iter =  1000\n",
      "training @ iter =  1100\n",
      "training @ iter =  1200\n",
      "training @ iter =  1300\n",
      "epoch 4, minibatch 329/329, validation error 59.833333 %\n",
      "     epoch 4, minibatch 329/329, test error of best model 60.169231 %\n",
      "training @ iter =  1400\n",
      "training @ iter =  1500\n",
      "training @ iter =  1600\n",
      "epoch 5, minibatch 329/329, validation error 56.277778 %\n",
      "     epoch 5, minibatch 329/329, test error of best model 56.223077 %\n",
      "training @ iter =  1700\n",
      "training @ iter =  1800\n",
      "training @ iter =  1900\n",
      "epoch 6, minibatch 329/329, validation error 52.375000 %\n",
      "     epoch 6, minibatch 329/329, test error of best model 53.223077 %\n",
      "training @ iter =  2000\n",
      "training @ iter =  2100\n",
      "training @ iter =  2200\n",
      "training @ iter =  2300\n",
      "epoch 7, minibatch 329/329, validation error 50.083333 %\n",
      "     epoch 7, minibatch 329/329, test error of best model 50.853846 %\n",
      "training @ iter =  2400\n",
      "training @ iter =  2500\n",
      "training @ iter =  2600\n",
      "epoch 8, minibatch 329/329, validation error 45.680556 %\n",
      "     epoch 8, minibatch 329/329, test error of best model 46.623077 %\n",
      "training @ iter =  2700\n",
      "training @ iter =  2800\n",
      "training @ iter =  2900\n",
      "epoch 9, minibatch 329/329, validation error 50.097222 %\n",
      "training @ iter =  3000\n",
      "training @ iter =  3100\n",
      "training @ iter =  3200\n",
      "epoch 10, minibatch 329/329, validation error 43.416667 %\n",
      "     epoch 10, minibatch 329/329, test error of best model 45.023077 %\n",
      "training @ iter =  3300\n",
      "training @ iter =  3400\n",
      "training @ iter =  3500\n",
      "training @ iter =  3600\n",
      "epoch 11, minibatch 329/329, validation error 42.222222 %\n",
      "     epoch 11, minibatch 329/329, test error of best model 43.600000 %\n",
      "training @ iter =  3700\n",
      "training @ iter =  3800\n",
      "training @ iter =  3900\n",
      "epoch 12, minibatch 329/329, validation error 40.972222 %\n",
      "     epoch 12, minibatch 329/329, test error of best model 42.461538 %\n",
      "training @ iter =  4000\n",
      "training @ iter =  4100\n",
      "training @ iter =  4200\n",
      "epoch 13, minibatch 329/329, validation error 41.208333 %\n",
      "training @ iter =  4300\n",
      "training @ iter =  4400\n",
      "training @ iter =  4500\n",
      "training @ iter =  4600\n",
      "epoch 14, minibatch 329/329, validation error 40.694444 %\n",
      "     epoch 14, minibatch 329/329, test error of best model 42.100000 %\n",
      "training @ iter =  4700\n",
      "training @ iter =  4800\n",
      "training @ iter =  4900\n",
      "epoch 15, minibatch 329/329, validation error 39.763889 %\n",
      "     epoch 15, minibatch 329/329, test error of best model 41.169231 %\n",
      "training @ iter =  5000\n",
      "training @ iter =  5100\n",
      "training @ iter =  5200\n",
      "epoch 16, minibatch 329/329, validation error 81.152778 %\n",
      "training @ iter =  5300\n",
      "training @ iter =  5400\n",
      "training @ iter =  5500\n",
      "epoch 17, minibatch 329/329, validation error 81.152778 %\n",
      "training @ iter =  5600\n",
      "training @ iter =  5700\n",
      "training @ iter =  5800\n",
      "training @ iter =  5900\n",
      "epoch 18, minibatch 329/329, validation error 81.152778 %\n",
      "training @ iter =  6000\n",
      "training @ iter =  6100\n",
      "training @ iter =  6200\n",
      "epoch 19, minibatch 329/329, validation error 81.152778 %\n",
      "training @ iter =  6300\n",
      "training @ iter =  6400\n",
      "training @ iter =  6500\n",
      "epoch 20, minibatch 329/329, validation error 81.152778 %\n",
      "training @ iter =  6600\n",
      "training @ iter =  6700\n",
      "training @ iter =  6800\n",
      "training @ iter =  6900\n",
      "epoch 21, minibatch 329/329, validation error 81.152778 %\n",
      "training @ iter =  7000\n",
      "training @ iter =  7100\n",
      "training @ iter =  7200\n",
      "epoch 22, minibatch 329/329, validation error 81.152778 %\n",
      "training @ iter =  7300\n",
      "training @ iter =  7400\n",
      "training @ iter =  7500\n",
      "epoch 23, minibatch 329/329, validation error 81.152778 %\n",
      "training @ iter =  7600\n",
      "training @ iter =  7700\n",
      "training @ iter =  7800\n",
      "epoch 24, minibatch 329/329, validation error 81.152778 %\n",
      "training @ iter =  7900\n",
      "training @ iter =  8000\n",
      "training @ iter =  8100\n",
      "training @ iter =  8200\n",
      "epoch 25, minibatch 329/329, validation error 81.152778 %\n",
      "training @ iter =  8300\n",
      "training @ iter =  8400\n",
      "training @ iter =  8500\n",
      "epoch 26, minibatch 329/329, validation error 81.152778 %\n",
      "training @ iter =  8600\n",
      "training @ iter =  8700\n",
      "training @ iter =  8800\n",
      "epoch 27, minibatch 329/329, validation error 81.152778 %\n",
      "training @ iter =  8900\n",
      "training @ iter =  9000\n",
      "training @ iter =  9100\n",
      "training @ iter =  9200\n",
      "epoch 28, minibatch 329/329, validation error 81.152778 %\n",
      "training @ iter =  9300\n",
      "training @ iter =  9400\n",
      "training @ iter =  9500\n",
      "epoch 29, minibatch 329/329, validation error 81.152778 %\n",
      "training @ iter =  9600\n",
      "training @ iter =  9700\n",
      "training @ iter =  9800\n",
      "epoch 30, minibatch 329/329, validation error 81.152778 %\n",
      "training @ iter =  9900\n",
      "training @ iter =  10000\n",
      "Optimization complete.\n",
      "Best validation score of 39.763889 % obtained at iteration 4935, with test performance 58.830769 %\n"
     ]
    },
    {
     "name": "stderr",
     "output_type": "stream",
     "text": [
      "The training process for function test_convnet ran for 8.72m\n"
     ]
    }
   ],
   "source": [
    "test_convnet(learning_rate=0.1, n_epochs=1000, nkerns=[16, 512, 20],\n",
    "        batch_size=200, verbose=True,filtershape = [3,3],pool_size = [3,3],imageshape = [32,32],downsizing = [4,4],ignore=False)"
   ]
  },
  {
   "cell_type": "markdown",
   "metadata": {},
   "source": [
    "#### Bullet 3: Explain why the back-propogation algorithm works on ms-cnn"
   ]
  },
  {
   "cell_type": "code",
   "execution_count": null,
   "metadata": {
    "collapsed": true
   },
   "outputs": [],
   "source": [
    "# TODO\n",
    "Back-propagation algorithm computes gradient backwards. It does this from one layer to other.Backprop uses chain rule.\n",
    "MS-CNN is composed of many layers withsparse relationship between networds.\n",
    "This is similar to MLPs.However the contrast is the relationship between the layers which is because of sparsity.\n",
    "CNN is able to leverage the common nature in the network to compute gradientusing gradients which were computed earlier.\n",
    "Thus, theano calculates the gradients via the backpropagation algorithm because variables in one layer are dependent on another \n",
    "and chain rule can be applied."
   ]
  },
  {
   "cell_type": "markdown",
   "metadata": {},
   "source": [
    "#### Bullet 4: Implement CNN plus MLP"
   ]
  },
  {
   "cell_type": "code",
   "execution_count": 2,
   "metadata": {
    "collapsed": false
   },
   "outputs": [
    {
     "name": "stdout",
     "output_type": "stream",
     "text": [
      "... building the model\n",
      "... training\n",
      "Optimization complete.\n",
      "Best validation score of 26.875000 % obtained at iteration 9870, with test performance 71.023077 %\n"
     ]
    },
    {
     "name": "stderr",
     "output_type": "stream",
     "text": [
      "The training process for function test_CDNN ran for 9.60m\n"
     ]
    }
   ],
   "source": [
    "# TODO\n",
    "\"\"\"\n",
    "This configuration gives better results than one in previous HW. performance now is 71%\n",
    "\"\"\"\n",
    "test_CDNN(learning_rate=0.1, n_epochs=1000, nkerns=[16, 512, 20],\n",
    "        batch_size=200,n_hiddenLayers = 2,n_hidden = 500 ,verbose=False)"
   ]
  },
  {
   "cell_type": "code",
   "execution_count": 2,
   "metadata": {
    "collapsed": false
   },
   "outputs": [
    {
     "name": "stdout",
     "output_type": "stream",
     "text": [
      "... building the model\n",
      "... training\n",
      "training @ iter =  0\n",
      "training @ iter =  100\n",
      "training @ iter =  200\n",
      "training @ iter =  300\n",
      "epoch 1, minibatch 329/329, validation error 81.152778 %\n",
      "     epoch 1, minibatch 329/329, test error of best model 80.419231 %\n",
      "training @ iter =  400\n",
      "training @ iter =  500\n",
      "training @ iter =  600\n",
      "epoch 2, minibatch 329/329, validation error 81.097222 %\n",
      "     epoch 2, minibatch 329/329, test error of best model 80.230769 %\n",
      "training @ iter =  700\n",
      "training @ iter =  800\n",
      "training @ iter =  900\n",
      "epoch 3, minibatch 329/329, validation error 81.472222 %\n",
      "training @ iter =  1000\n",
      "training @ iter =  1100\n",
      "training @ iter =  1200\n",
      "training @ iter =  1300\n",
      "epoch 4, minibatch 329/329, validation error 81.625000 %\n",
      "training @ iter =  1400\n",
      "training @ iter =  1500\n",
      "training @ iter =  1600\n",
      "epoch 5, minibatch 329/329, validation error 81.430556 %\n",
      "training @ iter =  1700\n",
      "training @ iter =  1800\n",
      "training @ iter =  1900\n",
      "epoch 6, minibatch 329/329, validation error 81.013889 %\n",
      "     epoch 6, minibatch 329/329, test error of best model 79.661538 %\n",
      "training @ iter =  2000\n",
      "training @ iter =  2100\n",
      "training @ iter =  2200\n",
      "training @ iter =  2300\n",
      "epoch 7, minibatch 329/329, validation error 80.583333 %\n",
      "     epoch 7, minibatch 329/329, test error of best model 79.053846 %\n",
      "training @ iter =  2400\n",
      "training @ iter =  2500\n",
      "training @ iter =  2600\n",
      "epoch 8, minibatch 329/329, validation error 80.138889 %\n",
      "     epoch 8, minibatch 329/329, test error of best model 78.573077 %\n",
      "training @ iter =  2700\n",
      "training @ iter =  2800\n",
      "training @ iter =  2900\n",
      "epoch 9, minibatch 329/329, validation error 78.902778 %\n",
      "     epoch 9, minibatch 329/329, test error of best model 77.515385 %\n",
      "training @ iter =  3000\n",
      "training @ iter =  3100\n",
      "training @ iter =  3200\n",
      "epoch 10, minibatch 329/329, validation error 77.652778 %\n",
      "     epoch 10, minibatch 329/329, test error of best model 76.042308 %\n",
      "training @ iter =  3300\n",
      "training @ iter =  3400\n",
      "training @ iter =  3500\n",
      "training @ iter =  3600\n",
      "epoch 11, minibatch 329/329, validation error 76.972222 %\n",
      "     epoch 11, minibatch 329/329, test error of best model 74.965385 %\n",
      "training @ iter =  3700\n",
      "training @ iter =  3800\n",
      "training @ iter =  3900\n",
      "epoch 12, minibatch 329/329, validation error 75.513889 %\n",
      "     epoch 12, minibatch 329/329, test error of best model 73.430769 %\n",
      "training @ iter =  4000\n",
      "training @ iter =  4100\n",
      "training @ iter =  4200\n",
      "epoch 13, minibatch 329/329, validation error 73.972222 %\n",
      "     epoch 13, minibatch 329/329, test error of best model 71.853846 %\n",
      "training @ iter =  4300\n",
      "training @ iter =  4400\n",
      "training @ iter =  4500\n",
      "training @ iter =  4600\n",
      "epoch 14, minibatch 329/329, validation error 72.694444 %\n",
      "     epoch 14, minibatch 329/329, test error of best model 70.634615 %\n",
      "training @ iter =  4700\n",
      "training @ iter =  4800\n",
      "training @ iter =  4900\n",
      "epoch 15, minibatch 329/329, validation error 71.652778 %\n",
      "     epoch 15, minibatch 329/329, test error of best model 69.276923 %\n",
      "training @ iter =  5000\n",
      "training @ iter =  5100\n",
      "training @ iter =  5200\n",
      "epoch 16, minibatch 329/329, validation error 70.027778 %\n",
      "     epoch 16, minibatch 329/329, test error of best model 67.946154 %\n",
      "training @ iter =  5300\n",
      "training @ iter =  5400\n",
      "training @ iter =  5500\n",
      "epoch 17, minibatch 329/329, validation error 68.263889 %\n",
      "     epoch 17, minibatch 329/329, test error of best model 66.788462 %\n",
      "training @ iter =  5600\n",
      "training @ iter =  5700\n",
      "training @ iter =  5800\n",
      "training @ iter =  5900\n",
      "epoch 18, minibatch 329/329, validation error 66.875000 %\n",
      "     epoch 18, minibatch 329/329, test error of best model 65.919231 %\n",
      "training @ iter =  6000\n",
      "training @ iter =  6100\n",
      "training @ iter =  6200\n",
      "epoch 19, minibatch 329/329, validation error 66.013889 %\n",
      "     epoch 19, minibatch 329/329, test error of best model 65.088462 %\n",
      "training @ iter =  6300\n",
      "training @ iter =  6400\n",
      "training @ iter =  6500\n",
      "epoch 20, minibatch 329/329, validation error 65.347222 %\n",
      "     epoch 20, minibatch 329/329, test error of best model 64.411538 %\n",
      "training @ iter =  6600\n",
      "training @ iter =  6700\n",
      "training @ iter =  6800\n",
      "training @ iter =  6900\n",
      "epoch 21, minibatch 329/329, validation error 64.555556 %\n",
      "     epoch 21, minibatch 329/329, test error of best model 63.688462 %\n",
      "training @ iter =  7000\n",
      "training @ iter =  7100\n",
      "training @ iter =  7200\n",
      "epoch 22, minibatch 329/329, validation error 64.027778 %\n",
      "     epoch 22, minibatch 329/329, test error of best model 63.088462 %\n",
      "training @ iter =  7300\n",
      "training @ iter =  7400\n",
      "training @ iter =  7500\n",
      "epoch 23, minibatch 329/329, validation error 63.166667 %\n",
      "     epoch 23, minibatch 329/329, test error of best model 62.496154 %\n",
      "training @ iter =  7600\n",
      "training @ iter =  7700\n",
      "training @ iter =  7800\n",
      "epoch 24, minibatch 329/329, validation error 62.500000 %\n",
      "     epoch 24, minibatch 329/329, test error of best model 61.911538 %\n",
      "training @ iter =  7900\n",
      "training @ iter =  8000\n",
      "training @ iter =  8100\n",
      "training @ iter =  8200\n",
      "epoch 25, minibatch 329/329, validation error 62.055556 %\n",
      "     epoch 25, minibatch 329/329, test error of best model 61.296154 %\n",
      "training @ iter =  8300\n",
      "training @ iter =  8400\n",
      "training @ iter =  8500\n",
      "epoch 26, minibatch 329/329, validation error 61.347222 %\n",
      "     epoch 26, minibatch 329/329, test error of best model 60.650000 %\n",
      "training @ iter =  8600\n",
      "training @ iter =  8700\n",
      "training @ iter =  8800\n",
      "epoch 27, minibatch 329/329, validation error 60.680556 %\n",
      "     epoch 27, minibatch 329/329, test error of best model 60.103846 %\n",
      "training @ iter =  8900\n",
      "training @ iter =  9000\n",
      "training @ iter =  9100\n",
      "training @ iter =  9200\n",
      "epoch 28, minibatch 329/329, validation error 59.833333 %\n",
      "     epoch 28, minibatch 329/329, test error of best model 59.692308 %\n",
      "training @ iter =  9300\n",
      "training @ iter =  9400\n",
      "training @ iter =  9500\n",
      "epoch 29, minibatch 329/329, validation error 59.083333 %\n",
      "     epoch 29, minibatch 329/329, test error of best model 59.261538 %\n",
      "training @ iter =  9600\n",
      "training @ iter =  9700\n",
      "training @ iter =  9800\n",
      "epoch 30, minibatch 329/329, validation error 58.319444 %\n",
      "     epoch 30, minibatch 329/329, test error of best model 58.888462 %\n",
      "training @ iter =  9900\n",
      "training @ iter =  10000\n",
      "Optimization complete.\n",
      "Best validation score of 58.319444 % obtained at iteration 9870, with test performance 41.111538 %\n"
     ]
    },
    {
     "name": "stderr",
     "output_type": "stream",
     "text": [
      "The training process for function test_lenet_Gaussian ran for 1.12m\n"
     ]
    }
   ],
   "source": [
    "    #Bonus 1 The configuration with Gaussian filter gives better results. Parameters are as below\n",
    "    # Gaussian performance : 41% CNN Performance : 34%\n",
    "    matrx = test_lenet_Gaussian(learning_rate=0.1, n_epochs=1000, nkerns=[3, 16],batch_size=200, verbose=True)"
   ]
  },
  {
   "cell_type": "code",
   "execution_count": 3,
   "metadata": {
    "collapsed": false
   },
   "outputs": [
    {
     "name": "stdout",
     "output_type": "stream",
     "text": [
      "[[[[  4.41697557e-05   1.29082939e-03   3.97603447e-03   1.29082939e-03\n",
      "      4.41697557e-05]\n",
      "   [  1.29082939e-03   3.77235673e-02   1.16196766e-01   3.77235673e-02\n",
      "      1.29082939e-03]\n",
      "   [  3.97603447e-03   1.16196766e-01   3.57911229e-01   1.16196766e-01\n",
      "      3.97603447e-03]\n",
      "   [  1.29082939e-03   3.77235673e-02   1.16196766e-01   3.77235673e-02\n",
      "      1.29082939e-03]\n",
      "   [  4.41697557e-05   1.29082939e-03   3.97603447e-03   1.29082939e-03\n",
      "      4.41697557e-05]]\n",
      "\n",
      "  [[  4.41697557e-05   1.29082939e-03   3.97603447e-03   1.29082939e-03\n",
      "      4.41697557e-05]\n",
      "   [  1.29082939e-03   3.77235673e-02   1.16196766e-01   3.77235673e-02\n",
      "      1.29082939e-03]\n",
      "   [  3.97603447e-03   1.16196766e-01   3.57911229e-01   1.16196766e-01\n",
      "      3.97603447e-03]\n",
      "   [  1.29082939e-03   3.77235673e-02   1.16196766e-01   3.77235673e-02\n",
      "      1.29082939e-03]\n",
      "   [  4.41697557e-05   1.29082939e-03   3.97603447e-03   1.29082939e-03\n",
      "      4.41697557e-05]]\n",
      "\n",
      "  [[  4.41697557e-05   1.29082939e-03   3.97603447e-03   1.29082939e-03\n",
      "      4.41697557e-05]\n",
      "   [  1.29082939e-03   3.77235673e-02   1.16196766e-01   3.77235673e-02\n",
      "      1.29082939e-03]\n",
      "   [  3.97603447e-03   1.16196766e-01   3.57911229e-01   1.16196766e-01\n",
      "      3.97603447e-03]\n",
      "   [  1.29082939e-03   3.77235673e-02   1.16196766e-01   3.77235673e-02\n",
      "      1.29082939e-03]\n",
      "   [  4.41697557e-05   1.29082939e-03   3.97603447e-03   1.29082939e-03\n",
      "      4.41697557e-05]]]\n",
      "\n",
      "\n",
      " [[[  4.41697557e-05   1.29082939e-03   3.97603447e-03   1.29082939e-03\n",
      "      4.41697557e-05]\n",
      "   [  1.29082939e-03   3.77235673e-02   1.16196766e-01   3.77235673e-02\n",
      "      1.29082939e-03]\n",
      "   [  3.97603447e-03   1.16196766e-01   3.57911229e-01   1.16196766e-01\n",
      "      3.97603447e-03]\n",
      "   [  1.29082939e-03   3.77235673e-02   1.16196766e-01   3.77235673e-02\n",
      "      1.29082939e-03]\n",
      "   [  4.41697557e-05   1.29082939e-03   3.97603447e-03   1.29082939e-03\n",
      "      4.41697557e-05]]\n",
      "\n",
      "  [[  4.41697557e-05   1.29082939e-03   3.97603447e-03   1.29082939e-03\n",
      "      4.41697557e-05]\n",
      "   [  1.29082939e-03   3.77235673e-02   1.16196766e-01   3.77235673e-02\n",
      "      1.29082939e-03]\n",
      "   [  3.97603447e-03   1.16196766e-01   3.57911229e-01   1.16196766e-01\n",
      "      3.97603447e-03]\n",
      "   [  1.29082939e-03   3.77235673e-02   1.16196766e-01   3.77235673e-02\n",
      "      1.29082939e-03]\n",
      "   [  4.41697557e-05   1.29082939e-03   3.97603447e-03   1.29082939e-03\n",
      "      4.41697557e-05]]\n",
      "\n",
      "  [[  4.41697557e-05   1.29082939e-03   3.97603447e-03   1.29082939e-03\n",
      "      4.41697557e-05]\n",
      "   [  1.29082939e-03   3.77235673e-02   1.16196766e-01   3.77235673e-02\n",
      "      1.29082939e-03]\n",
      "   [  3.97603447e-03   1.16196766e-01   3.57911229e-01   1.16196766e-01\n",
      "      3.97603447e-03]\n",
      "   [  1.29082939e-03   3.77235673e-02   1.16196766e-01   3.77235673e-02\n",
      "      1.29082939e-03]\n",
      "   [  4.41697557e-05   1.29082939e-03   3.97603447e-03   1.29082939e-03\n",
      "      4.41697557e-05]]]\n",
      "\n",
      "\n",
      " [[[  4.41697557e-05   1.29082939e-03   3.97603447e-03   1.29082939e-03\n",
      "      4.41697557e-05]\n",
      "   [  1.29082939e-03   3.77235673e-02   1.16196766e-01   3.77235673e-02\n",
      "      1.29082939e-03]\n",
      "   [  3.97603447e-03   1.16196766e-01   3.57911229e-01   1.16196766e-01\n",
      "      3.97603447e-03]\n",
      "   [  1.29082939e-03   3.77235673e-02   1.16196766e-01   3.77235673e-02\n",
      "      1.29082939e-03]\n",
      "   [  4.41697557e-05   1.29082939e-03   3.97603447e-03   1.29082939e-03\n",
      "      4.41697557e-05]]\n",
      "\n",
      "  [[  4.41697557e-05   1.29082939e-03   3.97603447e-03   1.29082939e-03\n",
      "      4.41697557e-05]\n",
      "   [  1.29082939e-03   3.77235673e-02   1.16196766e-01   3.77235673e-02\n",
      "      1.29082939e-03]\n",
      "   [  3.97603447e-03   1.16196766e-01   3.57911229e-01   1.16196766e-01\n",
      "      3.97603447e-03]\n",
      "   [  1.29082939e-03   3.77235673e-02   1.16196766e-01   3.77235673e-02\n",
      "      1.29082939e-03]\n",
      "   [  4.41697557e-05   1.29082939e-03   3.97603447e-03   1.29082939e-03\n",
      "      4.41697557e-05]]\n",
      "\n",
      "  [[  4.41697557e-05   1.29082939e-03   3.97603447e-03   1.29082939e-03\n",
      "      4.41697557e-05]\n",
      "   [  1.29082939e-03   3.77235673e-02   1.16196766e-01   3.77235673e-02\n",
      "      1.29082939e-03]\n",
      "   [  3.97603447e-03   1.16196766e-01   3.57911229e-01   1.16196766e-01\n",
      "      3.97603447e-03]\n",
      "   [  1.29082939e-03   3.77235673e-02   1.16196766e-01   3.77235673e-02\n",
      "      1.29082939e-03]\n",
      "   [  4.41697557e-05   1.29082939e-03   3.97603447e-03   1.29082939e-03\n",
      "      4.41697557e-05]]]]\n"
     ]
    },
    {
     "data": {
      "image/png": "[encoded data removed]",
      "text/plain": [
       "<matplotlib.figure.Figure at 0x7fdd4422df50>"
      ]
     },
     "metadata": {},
     "output_type": "display_data"
    }
   ],
   "source": [
    "print(matrx)\n",
    "f, axarr = plt.subplots(matrx.shape[0], matrx.shape[1])\n",
    "for index1 in range(matrx.shape[0]):\n",
    "    for index2 in range(matrx.shape[1]):\n",
    "        axarr[index1,index2].imshow(matrx[index1,index2,:,:])\n"
   ]
  },
  {
   "cell_type": "code",
   "execution_count": 6,
   "metadata": {
    "collapsed": false
   },
   "outputs": [
    {
     "name": "stdout",
     "output_type": "stream",
     "text": [
      "... building the model\n",
      "... training\n",
      "Optimization complete.\n",
      "Best validation score of 69.541667 % obtained at iteration 987, with test performance 34.111538 %\n"
     ]
    },
    {
     "name": "stderr",
     "output_type": "stream",
     "text": [
      "The training process for function test_lenet ran for 5.90m\n"
     ]
    }
   ],
   "source": [
    "matrx2 = test_lenet(learning_rate=0.1, n_epochs=1000, nkerns=[3, 512], batch_size=200, filtershape = 5,pool_size=2,imageshape=32,verbose=False)"
   ]
  },
  {
   "cell_type": "code",
   "execution_count": 7,
   "metadata": {
    "collapsed": false
   },
   "outputs": [
    {
     "data": {
      "image/png": "[encoded data removed]",
      "text/plain": [
       "<matplotlib.figure.Figure at 0x7fdd3cb3bed0>"
      ]
     },
     "metadata": {},
     "output_type": "display_data"
    }
   ],
   "source": [
    "#print(matrx)\n",
    "f, axarr = plt.subplots(matrx2.shape[0], matrx2.shape[1])\n",
    "for index1 in range(matrx2.shape[0]):\n",
    "    for index2 in range(matrx2.shape[1]):\n",
    "        axarr[index1,index2].imshow(matrx2[index1,index2,:,:])\n"
   ]
  },
  {
   "cell_type": "code",
   "execution_count": 11,
   "metadata": {
    "collapsed": false
   },
   "outputs": [
    {
     "name": "stdout",
     "output_type": "stream",
     "text": [
      "... building the model\n",
      "... training\n",
      "training @ iter =  0\n",
      "training @ iter =  100\n",
      "epoch 1, minibatch 103/103, validation error 81.392045 %\n",
      "     epoch 1, minibatch 103/103, test error of best model 80.403325 %\n",
      "training @ iter =  200\n",
      "epoch 2, minibatch 103/103, validation error 81.178977 %\n",
      "     epoch 2, minibatch 103/103, test error of best model 80.080049 %\n",
      "training @ iter =  300\n",
      "epoch 3, minibatch 103/103, validation error 80.539773 %\n",
      "     epoch 3, minibatch 103/103, test error of best model 79.483528 %\n",
      "training @ iter =  400\n",
      "epoch 4, minibatch 103/103, validation error 79.048295 %\n",
      "     epoch 4, minibatch 103/103, test error of best model 78.432882 %\n",
      "training @ iter =  500\n",
      "epoch 5, minibatch 103/103, validation error 78.125000 %\n",
      "     epoch 5, minibatch 103/103, test error of best model 77.709360 %\n",
      "training @ iter =  600\n",
      "epoch 6, minibatch 103/103, validation error 77.982955 %\n",
      "     epoch 6, minibatch 103/103, test error of best model 77.128233 %\n",
      "training @ iter =  700\n",
      "epoch 7, minibatch 103/103, validation error 74.573864 %\n",
      "     epoch 7, minibatch 103/103, test error of best model 75.727371 %\n",
      "training @ iter =  800\n",
      "epoch 8, minibatch 103/103, validation error 71.946023 %\n",
      "     epoch 8, minibatch 103/103, test error of best model 74.699815 %\n",
      "training @ iter =  900\n",
      "epoch 9, minibatch 103/103, validation error 70.099432 %\n",
      "     epoch 9, minibatch 103/103, test error of best model 73.295105 %\n",
      "training @ iter =  1000\n",
      "epoch 10, minibatch 103/103, validation error 68.465909 %\n",
      "     epoch 10, minibatch 103/103, test error of best model 70.585745 %\n",
      "training @ iter =  1100\n",
      "epoch 11, minibatch 103/103, validation error 58.948864 %\n",
      "     epoch 11, minibatch 103/103, test error of best model 59.775246 %\n",
      "training @ iter =  1200\n",
      "epoch 12, minibatch 103/103, validation error 61.789773 %\n",
      "training @ iter =  1300\n",
      "epoch 13, minibatch 103/103, validation error 57.741477 %\n",
      "     epoch 13, minibatch 103/103, test error of best model 58.459052 %\n",
      "training @ iter =  1400\n",
      "epoch 14, minibatch 103/103, validation error 57.031250 %\n",
      "     epoch 14, minibatch 103/103, test error of best model 58.874692 %\n",
      "training @ iter =  1500\n",
      "epoch 15, minibatch 103/103, validation error 47.798295 %\n",
      "     epoch 15, minibatch 103/103, test error of best model 49.965363 %\n",
      "training @ iter =  1600\n",
      "epoch 16, minibatch 103/103, validation error 50.355114 %\n",
      "training @ iter =  1700\n",
      "epoch 17, minibatch 103/103, validation error 45.880682 %\n",
      "     epoch 17, minibatch 103/103, test error of best model 47.167488 %\n",
      "training @ iter =  1800\n",
      "epoch 18, minibatch 103/103, validation error 50.497159 %\n",
      "training @ iter =  1900\n",
      "epoch 19, minibatch 103/103, validation error 43.323864 %\n",
      "     epoch 19, minibatch 103/103, test error of best model 45.250924 %\n",
      "training @ iter =  2000\n",
      "epoch 20, minibatch 103/103, validation error 47.798295 %\n",
      "training @ iter =  2100\n",
      "epoch 21, minibatch 103/103, validation error 41.335227 %\n",
      "     epoch 21, minibatch 103/103, test error of best model 42.445351 %\n",
      "training @ iter =  2200\n",
      "epoch 22, minibatch 103/103, validation error 39.914773 %\n",
      "     epoch 22, minibatch 103/103, test error of best model 40.929033 %\n",
      "training @ iter =  2300\n",
      "epoch 23, minibatch 103/103, validation error 41.193182 %\n",
      "training @ iter =  2400\n",
      "epoch 24, minibatch 103/103, validation error 38.352273 %\n",
      "     epoch 24, minibatch 103/103, test error of best model 38.947044 %\n",
      "training @ iter =  2500\n",
      "epoch 25, minibatch 103/103, validation error 37.713068 %\n",
      "     epoch 25, minibatch 103/103, test error of best model 37.942580 %\n",
      "training @ iter =  2600\n",
      "epoch 26, minibatch 103/103, validation error 37.215909 %\n",
      "     epoch 26, minibatch 103/103, test error of best model 38.500616 %\n",
      "training @ iter =  2700\n",
      "epoch 27, minibatch 103/103, validation error 36.789773 %\n",
      "     epoch 27, minibatch 103/103, test error of best model 37.500000 %\n",
      "training @ iter =  2800\n",
      "epoch 28, minibatch 103/103, validation error 36.008523 %\n",
      "     epoch 28, minibatch 103/103, test error of best model 36.395474 %\n",
      "training @ iter =  2900\n",
      "epoch 29, minibatch 103/103, validation error 35.227273 %\n",
      "     epoch 29, minibatch 103/103, test error of best model 36.002925 %\n",
      "training @ iter =  3000\n",
      "epoch 30, minibatch 103/103, validation error 34.303977 %\n",
      "     epoch 30, minibatch 103/103, test error of best model 35.899015 %\n",
      "training @ iter =  3100\n",
      "epoch 31, minibatch 103/103, validation error 35.085227 %\n",
      "training @ iter =  3200\n",
      "epoch 32, minibatch 103/103, validation error 34.943182 %\n",
      "training @ iter =  3300\n",
      "epoch 33, minibatch 103/103, validation error 35.085227 %\n",
      "training @ iter =  3400\n",
      "training @ iter =  3500\n",
      "epoch 34, minibatch 103/103, validation error 34.801136 %\n",
      "training @ iter =  3600\n",
      "epoch 35, minibatch 103/103, validation error 36.363636 %\n",
      "training @ iter =  3700\n",
      "epoch 36, minibatch 103/103, validation error 34.943182 %\n",
      "training @ iter =  3800\n",
      "epoch 37, minibatch 103/103, validation error 33.451705 %\n",
      "     epoch 37, minibatch 103/103, test error of best model 34.040179 %\n",
      "training @ iter =  3900\n",
      "epoch 38, minibatch 103/103, validation error 32.528409 %\n",
      "     epoch 38, minibatch 103/103, test error of best model 34.009390 %\n",
      "training @ iter =  4000\n",
      "epoch 39, minibatch 103/103, validation error 33.238636 %\n",
      "training @ iter =  4100\n",
      "epoch 40, minibatch 103/103, validation error 32.457386 %\n",
      "     epoch 40, minibatch 103/103, test error of best model 34.775246 %\n",
      "training @ iter =  4200\n",
      "epoch 41, minibatch 103/103, validation error 33.167614 %\n",
      "training @ iter =  4300\n",
      "epoch 42, minibatch 103/103, validation error 33.593750 %\n",
      "training @ iter =  4400\n",
      "epoch 43, minibatch 103/103, validation error 32.528409 %\n",
      "training @ iter =  4500\n",
      "epoch 44, minibatch 103/103, validation error 33.806818 %\n",
      "training @ iter =  4600\n",
      "epoch 45, minibatch 103/103, validation error 32.386364 %\n",
      "     epoch 45, minibatch 103/103, test error of best model 33.459052 %\n",
      "training @ iter =  4700\n",
      "epoch 46, minibatch 103/103, validation error 33.451705 %\n",
      "training @ iter =  4800\n",
      "epoch 47, minibatch 103/103, validation error 30.894886 %\n",
      "     epoch 47, minibatch 103/103, test error of best model 32.266010 %\n",
      "training @ iter =  4900\n",
      "epoch 48, minibatch 103/103, validation error 32.457386 %\n",
      "training @ iter =  5000\n",
      "epoch 49, minibatch 103/103, validation error 31.889205 %\n",
      "training @ iter =  5100\n",
      "epoch 50, minibatch 103/103, validation error 32.457386 %\n",
      "training @ iter =  5200\n",
      "epoch 51, minibatch 103/103, validation error 33.309659 %\n",
      "training @ iter =  5300\n",
      "epoch 52, minibatch 103/103, validation error 31.605114 %\n",
      "training @ iter =  5400\n",
      "epoch 53, minibatch 103/103, validation error 31.463068 %\n",
      "training @ iter =  5500\n",
      "epoch 54, minibatch 103/103, validation error 31.889205 %\n",
      "training @ iter =  5600\n",
      "epoch 55, minibatch 103/103, validation error 32.173295 %\n",
      "training @ iter =  5700\n",
      "epoch 56, minibatch 103/103, validation error 30.823864 %\n",
      "     epoch 56, minibatch 103/103, test error of best model 32.450739 %\n",
      "training @ iter =  5800\n",
      "epoch 57, minibatch 103/103, validation error 33.664773 %\n",
      "training @ iter =  5900\n",
      "epoch 58, minibatch 103/103, validation error 32.812500 %\n",
      "training @ iter =  6000\n",
      "epoch 59, minibatch 103/103, validation error 32.031250 %\n",
      "training @ iter =  6100\n",
      "epoch 60, minibatch 103/103, validation error 32.599432 %\n",
      "training @ iter =  6200\n",
      "epoch 61, minibatch 103/103, validation error 31.392045 %\n",
      "training @ iter =  6300\n",
      "epoch 62, minibatch 103/103, validation error 31.321023 %\n",
      "training @ iter =  6400\n",
      "epoch 63, minibatch 103/103, validation error 32.173295 %\n",
      "training @ iter =  6500\n",
      "epoch 64, minibatch 103/103, validation error 30.965909 %\n",
      "training @ iter =  6600\n",
      "epoch 65, minibatch 103/103, validation error 30.113636 %\n",
      "     epoch 65, minibatch 103/103, test error of best model 32.115917 %\n",
      "training @ iter =  6700\n",
      "epoch 66, minibatch 103/103, validation error 30.184659 %\n",
      "training @ iter =  6800\n",
      "training @ iter =  6900\n",
      "epoch 67, minibatch 103/103, validation error 29.119318 %\n",
      "     epoch 67, minibatch 103/103, test error of best model 30.180111 %\n",
      "training @ iter =  7000\n",
      "epoch 68, minibatch 103/103, validation error 29.474432 %\n",
      "training @ iter =  7100\n",
      "epoch 69, minibatch 103/103, validation error 28.480114 %\n",
      "     epoch 69, minibatch 103/103, test error of best model 29.125616 %\n",
      "training @ iter =  7200\n",
      "epoch 70, minibatch 103/103, validation error 29.048295 %\n",
      "training @ iter =  7300\n",
      "epoch 71, minibatch 103/103, validation error 27.982955 %\n",
      "     epoch 71, minibatch 103/103, test error of best model 29.702894 %\n",
      "training @ iter =  7400\n",
      "epoch 72, minibatch 103/103, validation error 27.201705 %\n",
      "     epoch 72, minibatch 103/103, test error of best model 28.929341 %\n",
      "training @ iter =  7500\n",
      "epoch 73, minibatch 103/103, validation error 27.059659 %\n",
      "     epoch 73, minibatch 103/103, test error of best model 27.844058 %\n",
      "training @ iter =  7600\n",
      "epoch 74, minibatch 103/103, validation error 27.414773 %\n",
      "training @ iter =  7700\n",
      "epoch 75, minibatch 103/103, validation error 27.130682 %\n",
      "training @ iter =  7800\n",
      "epoch 76, minibatch 103/103, validation error 25.994318 %\n",
      "     epoch 76, minibatch 103/103, test error of best model 27.759390 %\n",
      "training @ iter =  7900\n",
      "epoch 77, minibatch 103/103, validation error 27.130682 %\n",
      "training @ iter =  8000\n",
      "epoch 78, minibatch 103/103, validation error 25.568182 %\n",
      "     epoch 78, minibatch 103/103, test error of best model 26.824200 %\n",
      "training @ iter =  8100\n",
      "epoch 79, minibatch 103/103, validation error 25.284091 %\n",
      "     epoch 79, minibatch 103/103, test error of best model 26.570197 %\n",
      "training @ iter =  8200\n",
      "epoch 80, minibatch 103/103, validation error 25.284091 %\n",
      "training @ iter =  8300\n",
      "epoch 81, minibatch 103/103, validation error 28.977273 %\n",
      "training @ iter =  8400\n",
      "epoch 82, minibatch 103/103, validation error 25.284091 %\n",
      "training @ iter =  8500\n",
      "epoch 83, minibatch 103/103, validation error 27.130682 %\n",
      "training @ iter =  8600\n",
      "epoch 84, minibatch 103/103, validation error 25.852273 %\n",
      "training @ iter =  8700\n",
      "epoch 85, minibatch 103/103, validation error 25.426136 %\n",
      "training @ iter =  8800\n",
      "epoch 86, minibatch 103/103, validation error 25.213068 %\n",
      "     epoch 86, minibatch 103/103, test error of best model 26.031404 %\n",
      "training @ iter =  8900\n",
      "epoch 87, minibatch 103/103, validation error 25.355114 %\n",
      "training @ iter =  9000\n",
      "epoch 88, minibatch 103/103, validation error 24.147727 %\n",
      "     epoch 88, minibatch 103/103, test error of best model 26.092980 %\n",
      "training @ iter =  9100\n",
      "epoch 89, minibatch 103/103, validation error 25.426136 %\n",
      "training @ iter =  9200\n",
      "epoch 90, minibatch 103/103, validation error 27.130682 %\n",
      "training @ iter =  9300\n",
      "epoch 91, minibatch 103/103, validation error 26.278409 %\n",
      "training @ iter =  9400\n",
      "epoch 92, minibatch 103/103, validation error 31.036932 %\n",
      "training @ iter =  9500\n",
      "epoch 93, minibatch 103/103, validation error 27.414773 %\n",
      "training @ iter =  9600\n",
      "epoch 94, minibatch 103/103, validation error 25.497159 %\n",
      "training @ iter =  9700\n",
      "epoch 95, minibatch 103/103, validation error 25.852273 %\n",
      "training @ iter =  9800\n",
      "epoch 96, minibatch 103/103, validation error 26.846591 %\n",
      "training @ iter =  9900\n",
      "epoch 97, minibatch 103/103, validation error 24.786932 %\n",
      "training @ iter =  10000\n",
      "Optimization complete.\n",
      "Best validation score of 24.147727 % obtained at iteration 9064, with test performance 73.907020 %\n"
     ]
    },
    {
     "name": "stderr",
     "output_type": "stream",
     "text": [
      "The training process for function test_mlp ran for 5.85m\n"
     ]
    }
   ],
   "source": [
    "#Bonus Question 2\n",
    "#MLP took more time than CNN\n",
    "# Entries of CNN nkerns=[16, 32],\n",
    "#        batch_size=200, verbose=False,filtershape = 2,pool_size = 2\n",
    "#Entries of MLP learning_rate=0.05, L1_reg=0.00, L2_reg=0.0001, n_epochs=200,\n",
    "#             batch_size=128, n_hidden=[16*14*14, 32*5*5, 500], n_hiddenLayers=3,\n",
    "# CNN's performance is better than MLP \n",
    "test_mlp(learning_rate=0.05, L1_reg=0.00, L2_reg=0.0001, n_epochs=200,\n",
    "             batch_size=128, n_hidden=[16*14*14, 32*5*5, 500], n_hiddenLayers=3,\n",
    "             verbose=True, smaller_set=True)"
   ]
  },
  {
   "cell_type": "code",
   "execution_count": 13,
   "metadata": {
    "collapsed": false
   },
   "outputs": [
    {
     "name": "stdout",
     "output_type": "stream",
     "text": [
      "... building the model\n",
      "... training\n",
      "Optimization complete.\n",
      "Best validation score of 20.916667 % obtained at iteration 9870, with test performance 75.926923 %\n"
     ]
    },
    {
     "name": "stderr",
     "output_type": "stream",
     "text": [
      "The training process for function test_lenet ran for 1.95m\n"
     ]
    }
   ],
   "source": [
    "test_lenet(learning_rate=0.05, n_epochs=1000, nkerns=[16, 32],\n",
    "        batch_size=200, verbose=False,filtershape = 2,pool_size = 2,imageshape = 32)"
   ]
  },
  {
   "cell_type": "code",
   "execution_count": null,
   "metadata": {
    "collapsed": true
   },
   "outputs": [],
   "source": []
  }
 ],
 "metadata": {
  "kernelspec": {
   "display_name": "Python 2",
   "language": "python",
   "name": "python2"
  },
  "language_info": {
   "codemirror_mode": {
    "name": "ipython",
    "version": 2
   },
   "file_extension": ".py",
   "mimetype": "text/x-python",
   "name": "python",
   "nbconvert_exporter": "python",
   "pygments_lexer": "ipython2",
   "version": "2.7.11"
  }
 },
 "nbformat": 4,
 "nbformat_minor": 0
}
